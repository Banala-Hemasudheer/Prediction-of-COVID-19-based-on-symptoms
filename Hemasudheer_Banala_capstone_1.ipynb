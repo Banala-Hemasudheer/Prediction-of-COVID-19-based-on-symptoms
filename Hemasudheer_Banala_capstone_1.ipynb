{
  "nbformat": 4,
  "nbformat_minor": 0,
  "metadata": {
    "colab": {
      "provenance": []
    },
    "kernelspec": {
      "name": "python3",
      "display_name": "Python 3"
    },
    "language_info": {
      "name": "python"
    }
  },
  "cells": [
    {
      "cell_type": "markdown",
      "source": [
        "# Machine learning-based prediction of COVID-19 diagnosis based on symptoms"
      ],
      "metadata": {
        "id": "JODk4tatVI0h"
      }
    },
    {
      "cell_type": "markdown",
      "source": [
        "## Abstract:\n",
        "\n",
        ">  The early detection of COVID-19 by the use of an efficient SARS-CoV-2 screening test would undoubtedly minimise the burden on healthcare systems and prevents the spread of the disease.Prediction models were built to measure the chance of infection based on the different parameters collected as a part of the screening test.These are intended to assist medical practitioners all around the world in treating patients.Different feature engineering and feature selection techniques were performed in order to enhance the performance of the machine learning techniques. These machine learning techniques were compared based on the different performance measures and a superior model is suggested for prediction. \n",
        "\n"
      ],
      "metadata": {
        "id": "UWnSWUhMMr7P"
      }
    },
    {
      "cell_type": "markdown",
      "source": [
        "## Introduction:\n",
        "\n",
        "Coronavirus disease (COVID-19) is an infectious disease caused by the SARS-CoV-2 virus. Most people infected with the virus will experience mild to moderate respiratory illness and recover without requiring special treatment. However, some will become seriously ill and require medical attention. "
      ],
      "metadata": {
        "id": "keQq35W4Vop3"
      }
    },
    {
      "cell_type": "markdown",
      "source": [
        "## Dataset:\n",
        "The current dataset has been downloaded from ‘ABC’ government website and contains around 2,78,848 individuals who have gone through the RT-PCR test. Data set contains 11 columns, including 8 features suspected to play an important role in the prediction of COVID19 outcome. Outcome variable is covid result test positive or negative. We have data from 11th March 2020 till 30th April 2020. Data from 11th March to 15th April was used for training and validation and the data from 16th April to 30th April was used as  test set.Training and validation set are in a ratio of 4:1.  \n",
        "\n"
      ],
      "metadata": {
        "id": "SY0_KDGbW5mn"
      }
    },
    {
      "cell_type": "markdown",
      "source": [
        "## Variables in the dataset:\n",
        "\n",
        "A. Basic information: \n",
        "\n",
        "1. ID (Individual ID) \n",
        "\n",
        "2. Sex (male/female). \n",
        "\n",
        "3. Age ≥60 above years (true/false) \n",
        "\n",
        "4. Test date (date when tested for COVID)\n",
        "\n",
        "<br>\n",
        "\n",
        "\n",
        "B. Symptoms: \n",
        "\n",
        "5. Cough (true/false).\n",
        "\n",
        "6. Fever (true/false). \n",
        "\n",
        "7. Sore throat (true/false). \n",
        "\n",
        "8. Shortness of breath (true/false). \n",
        "\n",
        "9. Headache (true/false). \n",
        "\n",
        "\n",
        "<br>\n",
        "\n",
        "C. Other information: \n",
        "\n",
        "10. Known contact with an individual confirmed to have COVID-19 (true/false).\n",
        "\n",
        "\n",
        "<br>\n",
        "\n",
        "D. Covid report\n",
        "\n",
        "11. Corona positive or negative\n"
      ],
      "metadata": {
        "id": "uLqwXo0BM4lY"
      }
    },
    {
      "cell_type": "code",
      "execution_count": 23,
      "metadata": {
        "id": "1P-MR8GrSC5u",
        "colab": {
          "base_uri": "https://localhost:8080/"
        },
        "outputId": "df3c2f00-1b3f-44ac-e9e9-16ba4f67a2de"
      },
      "outputs": [
        {
          "output_type": "stream",
          "name": "stderr",
          "text": [
            "<ipython-input-23-292bb92f5e3c>:9: DtypeWarning: Columns (2,3,4,5,6) have mixed types. Specify dtype option on import or set low_memory=False.\n",
            "  covid = pd.read_csv(\"/content/corona_tested_006.csv\")\n"
          ]
        }
      ],
      "source": [
        "# Importing required libraries\n",
        "import pandas as pd\n",
        "import numpy as np\n",
        "import matplotlib.pyplot as plt\n",
        "import seaborn as sns\n",
        "import plotly.express as px\n",
        "\n",
        "# To read the csv file\n",
        "covid = pd.read_csv(\"/content/corona_tested_006.csv\")"
      ]
    },
    {
      "cell_type": "markdown",
      "source": [
        "#### Basic exploration of the dataset."
      ],
      "metadata": {
        "id": "ewgLbDcxuTmD"
      }
    },
    {
      "cell_type": "code",
      "source": [
        "covid.head(5)"
      ],
      "metadata": {
        "colab": {
          "base_uri": "https://localhost:8080/",
          "height": 337
        },
        "id": "AJInk6kIZ_Va",
        "outputId": "01422a5b-5be5-4d07-f051-64548cdb1f36"
      },
      "execution_count": 24,
      "outputs": [
        {
          "output_type": "execute_result",
          "data": {
            "text/plain": [
              "   Ind_ID   Test_date Cough_symptoms  Fever Sore_throat Shortness_of_breath  \\\n",
              "0       1  11-03-2020           TRUE  FALSE        TRUE               FALSE   \n",
              "1       2  11-03-2020          FALSE   TRUE       FALSE               FALSE   \n",
              "2       3  11-03-2020          FALSE   TRUE       FALSE               FALSE   \n",
              "3       4  11-03-2020           TRUE  FALSE       FALSE               FALSE   \n",
              "4       5  11-03-2020           TRUE  FALSE       FALSE               FALSE   \n",
              "\n",
              "  Headache    Corona Age_60_above   Sex           Known_contact  \n",
              "0    FALSE  negative         None  None                  Abroad  \n",
              "1    FALSE  positive         None  None                  Abroad  \n",
              "2    FALSE  positive         None  None                  Abroad  \n",
              "3    FALSE  negative         None  None                  Abroad  \n",
              "4    FALSE  negative         None  None  Contact with confirmed  "
            ],
            "text/html": [
              "\n",
              "  <div id=\"df-ffb9f8e0-2844-45d4-998b-1a26e815fad0\">\n",
              "    <div class=\"colab-df-container\">\n",
              "      <div>\n",
              "<style scoped>\n",
              "    .dataframe tbody tr th:only-of-type {\n",
              "        vertical-align: middle;\n",
              "    }\n",
              "\n",
              "    .dataframe tbody tr th {\n",
              "        vertical-align: top;\n",
              "    }\n",
              "\n",
              "    .dataframe thead th {\n",
              "        text-align: right;\n",
              "    }\n",
              "</style>\n",
              "<table border=\"1\" class=\"dataframe\">\n",
              "  <thead>\n",
              "    <tr style=\"text-align: right;\">\n",
              "      <th></th>\n",
              "      <th>Ind_ID</th>\n",
              "      <th>Test_date</th>\n",
              "      <th>Cough_symptoms</th>\n",
              "      <th>Fever</th>\n",
              "      <th>Sore_throat</th>\n",
              "      <th>Shortness_of_breath</th>\n",
              "      <th>Headache</th>\n",
              "      <th>Corona</th>\n",
              "      <th>Age_60_above</th>\n",
              "      <th>Sex</th>\n",
              "      <th>Known_contact</th>\n",
              "    </tr>\n",
              "  </thead>\n",
              "  <tbody>\n",
              "    <tr>\n",
              "      <th>0</th>\n",
              "      <td>1</td>\n",
              "      <td>11-03-2020</td>\n",
              "      <td>TRUE</td>\n",
              "      <td>FALSE</td>\n",
              "      <td>TRUE</td>\n",
              "      <td>FALSE</td>\n",
              "      <td>FALSE</td>\n",
              "      <td>negative</td>\n",
              "      <td>None</td>\n",
              "      <td>None</td>\n",
              "      <td>Abroad</td>\n",
              "    </tr>\n",
              "    <tr>\n",
              "      <th>1</th>\n",
              "      <td>2</td>\n",
              "      <td>11-03-2020</td>\n",
              "      <td>FALSE</td>\n",
              "      <td>TRUE</td>\n",
              "      <td>FALSE</td>\n",
              "      <td>FALSE</td>\n",
              "      <td>FALSE</td>\n",
              "      <td>positive</td>\n",
              "      <td>None</td>\n",
              "      <td>None</td>\n",
              "      <td>Abroad</td>\n",
              "    </tr>\n",
              "    <tr>\n",
              "      <th>2</th>\n",
              "      <td>3</td>\n",
              "      <td>11-03-2020</td>\n",
              "      <td>FALSE</td>\n",
              "      <td>TRUE</td>\n",
              "      <td>FALSE</td>\n",
              "      <td>FALSE</td>\n",
              "      <td>FALSE</td>\n",
              "      <td>positive</td>\n",
              "      <td>None</td>\n",
              "      <td>None</td>\n",
              "      <td>Abroad</td>\n",
              "    </tr>\n",
              "    <tr>\n",
              "      <th>3</th>\n",
              "      <td>4</td>\n",
              "      <td>11-03-2020</td>\n",
              "      <td>TRUE</td>\n",
              "      <td>FALSE</td>\n",
              "      <td>FALSE</td>\n",
              "      <td>FALSE</td>\n",
              "      <td>FALSE</td>\n",
              "      <td>negative</td>\n",
              "      <td>None</td>\n",
              "      <td>None</td>\n",
              "      <td>Abroad</td>\n",
              "    </tr>\n",
              "    <tr>\n",
              "      <th>4</th>\n",
              "      <td>5</td>\n",
              "      <td>11-03-2020</td>\n",
              "      <td>TRUE</td>\n",
              "      <td>FALSE</td>\n",
              "      <td>FALSE</td>\n",
              "      <td>FALSE</td>\n",
              "      <td>FALSE</td>\n",
              "      <td>negative</td>\n",
              "      <td>None</td>\n",
              "      <td>None</td>\n",
              "      <td>Contact with confirmed</td>\n",
              "    </tr>\n",
              "  </tbody>\n",
              "</table>\n",
              "</div>\n",
              "      <button class=\"colab-df-convert\" onclick=\"convertToInteractive('df-ffb9f8e0-2844-45d4-998b-1a26e815fad0')\"\n",
              "              title=\"Convert this dataframe to an interactive table.\"\n",
              "              style=\"display:none;\">\n",
              "        \n",
              "  <svg xmlns=\"http://www.w3.org/2000/svg\" height=\"24px\"viewBox=\"0 0 24 24\"\n",
              "       width=\"24px\">\n",
              "    <path d=\"M0 0h24v24H0V0z\" fill=\"none\"/>\n",
              "    <path d=\"M18.56 5.44l.94 2.06.94-2.06 2.06-.94-2.06-.94-.94-2.06-.94 2.06-2.06.94zm-11 1L8.5 8.5l.94-2.06 2.06-.94-2.06-.94L8.5 2.5l-.94 2.06-2.06.94zm10 10l.94 2.06.94-2.06 2.06-.94-2.06-.94-.94-2.06-.94 2.06-2.06.94z\"/><path d=\"M17.41 7.96l-1.37-1.37c-.4-.4-.92-.59-1.43-.59-.52 0-1.04.2-1.43.59L10.3 9.45l-7.72 7.72c-.78.78-.78 2.05 0 2.83L4 21.41c.39.39.9.59 1.41.59.51 0 1.02-.2 1.41-.59l7.78-7.78 2.81-2.81c.8-.78.8-2.07 0-2.86zM5.41 20L4 18.59l7.72-7.72 1.47 1.35L5.41 20z\"/>\n",
              "  </svg>\n",
              "      </button>\n",
              "      \n",
              "  <style>\n",
              "    .colab-df-container {\n",
              "      display:flex;\n",
              "      flex-wrap:wrap;\n",
              "      gap: 12px;\n",
              "    }\n",
              "\n",
              "    .colab-df-convert {\n",
              "      background-color: #E8F0FE;\n",
              "      border: none;\n",
              "      border-radius: 50%;\n",
              "      cursor: pointer;\n",
              "      display: none;\n",
              "      fill: #1967D2;\n",
              "      height: 32px;\n",
              "      padding: 0 0 0 0;\n",
              "      width: 32px;\n",
              "    }\n",
              "\n",
              "    .colab-df-convert:hover {\n",
              "      background-color: #E2EBFA;\n",
              "      box-shadow: 0px 1px 2px rgba(60, 64, 67, 0.3), 0px 1px 3px 1px rgba(60, 64, 67, 0.15);\n",
              "      fill: #174EA6;\n",
              "    }\n",
              "\n",
              "    [theme=dark] .colab-df-convert {\n",
              "      background-color: #3B4455;\n",
              "      fill: #D2E3FC;\n",
              "    }\n",
              "\n",
              "    [theme=dark] .colab-df-convert:hover {\n",
              "      background-color: #434B5C;\n",
              "      box-shadow: 0px 1px 3px 1px rgba(0, 0, 0, 0.15);\n",
              "      filter: drop-shadow(0px 1px 2px rgba(0, 0, 0, 0.3));\n",
              "      fill: #FFFFFF;\n",
              "    }\n",
              "  </style>\n",
              "\n",
              "      <script>\n",
              "        const buttonEl =\n",
              "          document.querySelector('#df-ffb9f8e0-2844-45d4-998b-1a26e815fad0 button.colab-df-convert');\n",
              "        buttonEl.style.display =\n",
              "          google.colab.kernel.accessAllowed ? 'block' : 'none';\n",
              "\n",
              "        async function convertToInteractive(key) {\n",
              "          const element = document.querySelector('#df-ffb9f8e0-2844-45d4-998b-1a26e815fad0');\n",
              "          const dataTable =\n",
              "            await google.colab.kernel.invokeFunction('convertToInteractive',\n",
              "                                                     [key], {});\n",
              "          if (!dataTable) return;\n",
              "\n",
              "          const docLinkHtml = 'Like what you see? Visit the ' +\n",
              "            '<a target=\"_blank\" href=https://colab.research.google.com/notebooks/data_table.ipynb>data table notebook</a>'\n",
              "            + ' to learn more about interactive tables.';\n",
              "          element.innerHTML = '';\n",
              "          dataTable['output_type'] = 'display_data';\n",
              "          await google.colab.output.renderOutput(dataTable, element);\n",
              "          const docLink = document.createElement('div');\n",
              "          docLink.innerHTML = docLinkHtml;\n",
              "          element.appendChild(docLink);\n",
              "        }\n",
              "      </script>\n",
              "    </div>\n",
              "  </div>\n",
              "  "
            ]
          },
          "metadata": {},
          "execution_count": 24
        }
      ]
    },
    {
      "cell_type": "markdown",
      "source": [
        "Data Types:\n",
        "\n",
        "Numerical data - ( Individual id )\n",
        "\n",
        "Categorical data - Nominal ( Cough_symptoms, Fever, Sore_throat,  Shortness_of_breath, Headache, Corona, Age_60_above, Sex, Known_contact)"
      ],
      "metadata": {
        "id": "6BlwI2IZjMXB"
      }
    },
    {
      "cell_type": "code",
      "source": [
        "# To know basic information\n",
        "covid.info()"
      ],
      "metadata": {
        "colab": {
          "base_uri": "https://localhost:8080/"
        },
        "id": "rcm8vToZaEFx",
        "outputId": "0ecde697-f51d-4192-bf7b-699d7f832ae5"
      },
      "execution_count": 25,
      "outputs": [
        {
          "output_type": "stream",
          "name": "stdout",
          "text": [
            "<class 'pandas.core.frame.DataFrame'>\n",
            "RangeIndex: 278848 entries, 0 to 278847\n",
            "Data columns (total 11 columns):\n",
            " #   Column               Non-Null Count   Dtype \n",
            "---  ------               --------------   ----- \n",
            " 0   Ind_ID               278848 non-null  int64 \n",
            " 1   Test_date            278848 non-null  object\n",
            " 2   Cough_symptoms       278848 non-null  object\n",
            " 3   Fever                278848 non-null  object\n",
            " 4   Sore_throat          278848 non-null  object\n",
            " 5   Shortness_of_breath  278848 non-null  object\n",
            " 6   Headache             278848 non-null  object\n",
            " 7   Corona               278848 non-null  object\n",
            " 8   Age_60_above         278848 non-null  object\n",
            " 9   Sex                  278848 non-null  object\n",
            " 10  Known_contact        278848 non-null  object\n",
            "dtypes: int64(1), object(10)\n",
            "memory usage: 23.4+ MB\n"
          ]
        }
      ]
    },
    {
      "cell_type": "code",
      "source": [
        "# Converting the data types \n",
        "covid[\"Test_date\"] = pd.to_datetime(covid['Test_date'])"
      ],
      "metadata": {
        "id": "SRrCykzNcYFc",
        "colab": {
          "base_uri": "https://localhost:8080/"
        },
        "outputId": "130f629d-afd2-49fd-9626-cdb99972b96a"
      },
      "execution_count": 26,
      "outputs": [
        {
          "output_type": "stream",
          "name": "stderr",
          "text": [
            "/usr/local/lib/python3.9/dist-packages/pandas/core/tools/datetimes.py:1047: UserWarning: Parsing '13-03-2020' in DD/MM/YYYY format. Provide format or specify infer_datetime_format=True for consistent parsing.\n",
            "  cache_array = _maybe_cache(arg, format, cache, convert_listlike)\n",
            "/usr/local/lib/python3.9/dist-packages/pandas/core/tools/datetimes.py:1047: UserWarning: Parsing '14-03-2020' in DD/MM/YYYY format. Provide format or specify infer_datetime_format=True for consistent parsing.\n",
            "  cache_array = _maybe_cache(arg, format, cache, convert_listlike)\n",
            "/usr/local/lib/python3.9/dist-packages/pandas/core/tools/datetimes.py:1047: UserWarning: Parsing '15-03-2020' in DD/MM/YYYY format. Provide format or specify infer_datetime_format=True for consistent parsing.\n",
            "  cache_array = _maybe_cache(arg, format, cache, convert_listlike)\n",
            "/usr/local/lib/python3.9/dist-packages/pandas/core/tools/datetimes.py:1047: UserWarning: Parsing '16-03-2020' in DD/MM/YYYY format. Provide format or specify infer_datetime_format=True for consistent parsing.\n",
            "  cache_array = _maybe_cache(arg, format, cache, convert_listlike)\n",
            "/usr/local/lib/python3.9/dist-packages/pandas/core/tools/datetimes.py:1047: UserWarning: Parsing '17-03-2020' in DD/MM/YYYY format. Provide format or specify infer_datetime_format=True for consistent parsing.\n",
            "  cache_array = _maybe_cache(arg, format, cache, convert_listlike)\n",
            "/usr/local/lib/python3.9/dist-packages/pandas/core/tools/datetimes.py:1047: UserWarning: Parsing '18-03-2020' in DD/MM/YYYY format. Provide format or specify infer_datetime_format=True for consistent parsing.\n",
            "  cache_array = _maybe_cache(arg, format, cache, convert_listlike)\n",
            "/usr/local/lib/python3.9/dist-packages/pandas/core/tools/datetimes.py:1047: UserWarning: Parsing '19-03-2020' in DD/MM/YYYY format. Provide format or specify infer_datetime_format=True for consistent parsing.\n",
            "  cache_array = _maybe_cache(arg, format, cache, convert_listlike)\n",
            "/usr/local/lib/python3.9/dist-packages/pandas/core/tools/datetimes.py:1047: UserWarning: Parsing '20-03-2020' in DD/MM/YYYY format. Provide format or specify infer_datetime_format=True for consistent parsing.\n",
            "  cache_array = _maybe_cache(arg, format, cache, convert_listlike)\n",
            "/usr/local/lib/python3.9/dist-packages/pandas/core/tools/datetimes.py:1047: UserWarning: Parsing '21-03-2020' in DD/MM/YYYY format. Provide format or specify infer_datetime_format=True for consistent parsing.\n",
            "  cache_array = _maybe_cache(arg, format, cache, convert_listlike)\n",
            "/usr/local/lib/python3.9/dist-packages/pandas/core/tools/datetimes.py:1047: UserWarning: Parsing '22-03-2020' in DD/MM/YYYY format. Provide format or specify infer_datetime_format=True for consistent parsing.\n",
            "  cache_array = _maybe_cache(arg, format, cache, convert_listlike)\n",
            "/usr/local/lib/python3.9/dist-packages/pandas/core/tools/datetimes.py:1047: UserWarning: Parsing '23-03-2020' in DD/MM/YYYY format. Provide format or specify infer_datetime_format=True for consistent parsing.\n",
            "  cache_array = _maybe_cache(arg, format, cache, convert_listlike)\n",
            "/usr/local/lib/python3.9/dist-packages/pandas/core/tools/datetimes.py:1047: UserWarning: Parsing '24-03-2020' in DD/MM/YYYY format. Provide format or specify infer_datetime_format=True for consistent parsing.\n",
            "  cache_array = _maybe_cache(arg, format, cache, convert_listlike)\n",
            "/usr/local/lib/python3.9/dist-packages/pandas/core/tools/datetimes.py:1047: UserWarning: Parsing '25-03-2020' in DD/MM/YYYY format. Provide format or specify infer_datetime_format=True for consistent parsing.\n",
            "  cache_array = _maybe_cache(arg, format, cache, convert_listlike)\n",
            "/usr/local/lib/python3.9/dist-packages/pandas/core/tools/datetimes.py:1047: UserWarning: Parsing '26-03-2020' in DD/MM/YYYY format. Provide format or specify infer_datetime_format=True for consistent parsing.\n",
            "  cache_array = _maybe_cache(arg, format, cache, convert_listlike)\n",
            "/usr/local/lib/python3.9/dist-packages/pandas/core/tools/datetimes.py:1047: UserWarning: Parsing '27-03-2020' in DD/MM/YYYY format. Provide format or specify infer_datetime_format=True for consistent parsing.\n",
            "  cache_array = _maybe_cache(arg, format, cache, convert_listlike)\n",
            "/usr/local/lib/python3.9/dist-packages/pandas/core/tools/datetimes.py:1047: UserWarning: Parsing '28-03-2020' in DD/MM/YYYY format. Provide format or specify infer_datetime_format=True for consistent parsing.\n",
            "  cache_array = _maybe_cache(arg, format, cache, convert_listlike)\n",
            "/usr/local/lib/python3.9/dist-packages/pandas/core/tools/datetimes.py:1047: UserWarning: Parsing '29-03-2020' in DD/MM/YYYY format. Provide format or specify infer_datetime_format=True for consistent parsing.\n",
            "  cache_array = _maybe_cache(arg, format, cache, convert_listlike)\n",
            "/usr/local/lib/python3.9/dist-packages/pandas/core/tools/datetimes.py:1047: UserWarning: Parsing '30-03-2020' in DD/MM/YYYY format. Provide format or specify infer_datetime_format=True for consistent parsing.\n",
            "  cache_array = _maybe_cache(arg, format, cache, convert_listlike)\n",
            "/usr/local/lib/python3.9/dist-packages/pandas/core/tools/datetimes.py:1047: UserWarning: Parsing '31-03-2020' in DD/MM/YYYY format. Provide format or specify infer_datetime_format=True for consistent parsing.\n",
            "  cache_array = _maybe_cache(arg, format, cache, convert_listlike)\n",
            "/usr/local/lib/python3.9/dist-packages/pandas/core/tools/datetimes.py:1047: UserWarning: Parsing '13-04-2020' in DD/MM/YYYY format. Provide format or specify infer_datetime_format=True for consistent parsing.\n",
            "  cache_array = _maybe_cache(arg, format, cache, convert_listlike)\n",
            "/usr/local/lib/python3.9/dist-packages/pandas/core/tools/datetimes.py:1047: UserWarning: Parsing '14-04-2020' in DD/MM/YYYY format. Provide format or specify infer_datetime_format=True for consistent parsing.\n",
            "  cache_array = _maybe_cache(arg, format, cache, convert_listlike)\n",
            "/usr/local/lib/python3.9/dist-packages/pandas/core/tools/datetimes.py:1047: UserWarning: Parsing '15-04-2020' in DD/MM/YYYY format. Provide format or specify infer_datetime_format=True for consistent parsing.\n",
            "  cache_array = _maybe_cache(arg, format, cache, convert_listlike)\n",
            "/usr/local/lib/python3.9/dist-packages/pandas/core/tools/datetimes.py:1047: UserWarning: Parsing '16-04-2020' in DD/MM/YYYY format. Provide format or specify infer_datetime_format=True for consistent parsing.\n",
            "  cache_array = _maybe_cache(arg, format, cache, convert_listlike)\n",
            "/usr/local/lib/python3.9/dist-packages/pandas/core/tools/datetimes.py:1047: UserWarning: Parsing '17-04-2020' in DD/MM/YYYY format. Provide format or specify infer_datetime_format=True for consistent parsing.\n",
            "  cache_array = _maybe_cache(arg, format, cache, convert_listlike)\n",
            "/usr/local/lib/python3.9/dist-packages/pandas/core/tools/datetimes.py:1047: UserWarning: Parsing '18-04-2020' in DD/MM/YYYY format. Provide format or specify infer_datetime_format=True for consistent parsing.\n",
            "  cache_array = _maybe_cache(arg, format, cache, convert_listlike)\n",
            "/usr/local/lib/python3.9/dist-packages/pandas/core/tools/datetimes.py:1047: UserWarning: Parsing '19-04-2020' in DD/MM/YYYY format. Provide format or specify infer_datetime_format=True for consistent parsing.\n",
            "  cache_array = _maybe_cache(arg, format, cache, convert_listlike)\n",
            "/usr/local/lib/python3.9/dist-packages/pandas/core/tools/datetimes.py:1047: UserWarning: Parsing '20-04-2020' in DD/MM/YYYY format. Provide format or specify infer_datetime_format=True for consistent parsing.\n",
            "  cache_array = _maybe_cache(arg, format, cache, convert_listlike)\n",
            "/usr/local/lib/python3.9/dist-packages/pandas/core/tools/datetimes.py:1047: UserWarning: Parsing '21-04-2020' in DD/MM/YYYY format. Provide format or specify infer_datetime_format=True for consistent parsing.\n",
            "  cache_array = _maybe_cache(arg, format, cache, convert_listlike)\n",
            "/usr/local/lib/python3.9/dist-packages/pandas/core/tools/datetimes.py:1047: UserWarning: Parsing '22-04-2020' in DD/MM/YYYY format. Provide format or specify infer_datetime_format=True for consistent parsing.\n",
            "  cache_array = _maybe_cache(arg, format, cache, convert_listlike)\n",
            "/usr/local/lib/python3.9/dist-packages/pandas/core/tools/datetimes.py:1047: UserWarning: Parsing '23-04-2020' in DD/MM/YYYY format. Provide format or specify infer_datetime_format=True for consistent parsing.\n",
            "  cache_array = _maybe_cache(arg, format, cache, convert_listlike)\n",
            "/usr/local/lib/python3.9/dist-packages/pandas/core/tools/datetimes.py:1047: UserWarning: Parsing '24-04-2020' in DD/MM/YYYY format. Provide format or specify infer_datetime_format=True for consistent parsing.\n",
            "  cache_array = _maybe_cache(arg, format, cache, convert_listlike)\n",
            "/usr/local/lib/python3.9/dist-packages/pandas/core/tools/datetimes.py:1047: UserWarning: Parsing '25-04-2020' in DD/MM/YYYY format. Provide format or specify infer_datetime_format=True for consistent parsing.\n",
            "  cache_array = _maybe_cache(arg, format, cache, convert_listlike)\n",
            "/usr/local/lib/python3.9/dist-packages/pandas/core/tools/datetimes.py:1047: UserWarning: Parsing '26-04-2020' in DD/MM/YYYY format. Provide format or specify infer_datetime_format=True for consistent parsing.\n",
            "  cache_array = _maybe_cache(arg, format, cache, convert_listlike)\n",
            "/usr/local/lib/python3.9/dist-packages/pandas/core/tools/datetimes.py:1047: UserWarning: Parsing '27-04-2020' in DD/MM/YYYY format. Provide format or specify infer_datetime_format=True for consistent parsing.\n",
            "  cache_array = _maybe_cache(arg, format, cache, convert_listlike)\n",
            "/usr/local/lib/python3.9/dist-packages/pandas/core/tools/datetimes.py:1047: UserWarning: Parsing '28-04-2020' in DD/MM/YYYY format. Provide format or specify infer_datetime_format=True for consistent parsing.\n",
            "  cache_array = _maybe_cache(arg, format, cache, convert_listlike)\n",
            "/usr/local/lib/python3.9/dist-packages/pandas/core/tools/datetimes.py:1047: UserWarning: Parsing '29-04-2020' in DD/MM/YYYY format. Provide format or specify infer_datetime_format=True for consistent parsing.\n",
            "  cache_array = _maybe_cache(arg, format, cache, convert_listlike)\n",
            "/usr/local/lib/python3.9/dist-packages/pandas/core/tools/datetimes.py:1047: UserWarning: Parsing '30-04-2020' in DD/MM/YYYY format. Provide format or specify infer_datetime_format=True for consistent parsing.\n",
            "  cache_array = _maybe_cache(arg, format, cache, convert_listlike)\n"
          ]
        }
      ]
    },
    {
      "cell_type": "markdown",
      "source": [
        "##### Checking Unique values in all columns."
      ],
      "metadata": {
        "id": "w8H09AiEx5pD"
      }
    },
    {
      "cell_type": "code",
      "source": [
        "# Examinig the unique values in the dataset\n",
        "covid.nunique()"
      ],
      "metadata": {
        "colab": {
          "base_uri": "https://localhost:8080/"
        },
        "id": "WNUWnh16bPAc",
        "outputId": "0f2fb383-6c9a-4514-9c97-b76280a9f23a"
      },
      "execution_count": 27,
      "outputs": [
        {
          "output_type": "execute_result",
          "data": {
            "text/plain": [
              "Ind_ID                 278848\n",
              "Test_date                  51\n",
              "Cough_symptoms              5\n",
              "Fever                       5\n",
              "Sore_throat                 5\n",
              "Shortness_of_breath         5\n",
              "Headache                    5\n",
              "Corona                      3\n",
              "Age_60_above                3\n",
              "Sex                         3\n",
              "Known_contact               3\n",
              "dtype: int64"
            ]
          },
          "metadata": {},
          "execution_count": 27
        }
      ]
    },
    {
      "cell_type": "code",
      "source": [
        "covid['Cough_symptoms'].unique()"
      ],
      "metadata": {
        "id": "hkmq60QPctd3",
        "colab": {
          "base_uri": "https://localhost:8080/"
        },
        "outputId": "a9326a2f-2c97-4b29-dbeb-0239a8a3bac5"
      },
      "execution_count": 28,
      "outputs": [
        {
          "output_type": "execute_result",
          "data": {
            "text/plain": [
              "array(['TRUE', 'FALSE', 'None', False, True], dtype=object)"
            ]
          },
          "metadata": {},
          "execution_count": 28
        }
      ]
    },
    {
      "cell_type": "markdown",
      "source": [
        "Observation : Same values are given as uppercase and some are in title case."
      ],
      "metadata": {
        "id": "vxG1actzij0u"
      }
    },
    {
      "cell_type": "code",
      "source": [
        "# Converting all the categorical values to title case \n",
        "covid.iloc[:,2:] = covid.iloc[:,2:].apply(lambda x: x.astype(str).str.title() ) "
      ],
      "metadata": {
        "id": "kCPZRQfggk8n"
      },
      "execution_count": 29,
      "outputs": []
    },
    {
      "cell_type": "code",
      "source": [
        "# Replacing the values specified as none with np.nan\n",
        "covid= covid.replace(\"^None$\", np.nan, regex= True)"
      ],
      "metadata": {
        "id": "q5eLQGE0gC0e"
      },
      "execution_count": 30,
      "outputs": []
    },
    {
      "cell_type": "code",
      "source": [
        "# Examinig the unique values in the dataset\n",
        "covid.nunique()"
      ],
      "metadata": {
        "colab": {
          "base_uri": "https://localhost:8080/"
        },
        "id": "5Bk1yrH3vDXX",
        "outputId": "8eeeaff7-5355-46b5-8098-57bad1abb4e3"
      },
      "execution_count": 31,
      "outputs": [
        {
          "output_type": "execute_result",
          "data": {
            "text/plain": [
              "Ind_ID                 278848\n",
              "Test_date                  51\n",
              "Cough_symptoms              2\n",
              "Fever                       2\n",
              "Sore_throat                 2\n",
              "Shortness_of_breath         2\n",
              "Headache                    2\n",
              "Corona                      3\n",
              "Age_60_above                2\n",
              "Sex                         2\n",
              "Known_contact               3\n",
              "dtype: int64"
            ]
          },
          "metadata": {},
          "execution_count": 31
        }
      ]
    },
    {
      "cell_type": "code",
      "source": [
        "# Examining unique values\n",
        "covid['Corona'].unique()"
      ],
      "metadata": {
        "colab": {
          "base_uri": "https://localhost:8080/"
        },
        "id": "kjsu_52wvihX",
        "outputId": "19da5637-a78e-433f-897d-86958e864703"
      },
      "execution_count": 32,
      "outputs": [
        {
          "output_type": "execute_result",
          "data": {
            "text/plain": [
              "array(['Negative', 'Positive', 'Other'], dtype=object)"
            ]
          },
          "metadata": {},
          "execution_count": 32
        }
      ]
    },
    {
      "cell_type": "markdown",
      "source": [
        "Removing the rows where target variable(Corona) is Other."
      ],
      "metadata": {
        "id": "L7rBBH05v8EA"
      }
    },
    {
      "cell_type": "code",
      "source": [
        "index_names = covid[covid['Corona'] == 'Other'].index  \n",
        "# drop these given row with indexes from dataFrame\n",
        "covid.drop(index_names, inplace = True)"
      ],
      "metadata": {
        "id": "w4yeupNvwIvu"
      },
      "execution_count": 33,
      "outputs": []
    },
    {
      "cell_type": "code",
      "source": [
        "covid.nunique()"
      ],
      "metadata": {
        "colab": {
          "base_uri": "https://localhost:8080/"
        },
        "id": "bIMLRxEdhrhY",
        "outputId": "587c97d3-962b-4eac-f44a-11502c38b4f0"
      },
      "execution_count": 34,
      "outputs": [
        {
          "output_type": "execute_result",
          "data": {
            "text/plain": [
              "Ind_ID                 274956\n",
              "Test_date                  51\n",
              "Cough_symptoms              2\n",
              "Fever                       2\n",
              "Sore_throat                 2\n",
              "Shortness_of_breath         2\n",
              "Headache                    2\n",
              "Corona                      2\n",
              "Age_60_above                2\n",
              "Sex                         2\n",
              "Known_contact               3\n",
              "dtype: int64"
            ]
          },
          "metadata": {},
          "execution_count": 34
        }
      ]
    },
    {
      "cell_type": "markdown",
      "source": [
        "##### Dealing with null values in the dataset."
      ],
      "metadata": {
        "id": "Gm4iqobByJ6o"
      }
    },
    {
      "cell_type": "code",
      "source": [
        "# To see the no. of null values in all the columns\n",
        "covid.isnull().sum()"
      ],
      "metadata": {
        "colab": {
          "base_uri": "https://localhost:8080/"
        },
        "id": "qkmnYbqonbBE",
        "outputId": "cd18b1dd-b944-49d8-e19c-7680762dcf0a"
      },
      "execution_count": 35,
      "outputs": [
        {
          "output_type": "execute_result",
          "data": {
            "text/plain": [
              "Ind_ID                      0\n",
              "Test_date                   0\n",
              "Cough_symptoms            252\n",
              "Fever                     252\n",
              "Sore_throat                 1\n",
              "Shortness_of_breath         1\n",
              "Headache                    1\n",
              "Corona                      0\n",
              "Age_60_above           125664\n",
              "Sex                     19045\n",
              "Known_contact               0\n",
              "dtype: int64"
            ]
          },
          "metadata": {},
          "execution_count": 35
        }
      ]
    },
    {
      "cell_type": "code",
      "source": [
        "import missingno as mn\n",
        "mn.matrix(covid)"
      ],
      "metadata": {
        "colab": {
          "base_uri": "https://localhost:8080/",
          "height": 519
        },
        "id": "mB6B4Ac_bT0y",
        "outputId": "a0b5d2a1-6a1c-431f-af7b-3541e584dc10"
      },
      "execution_count": 36,
      "outputs": [
        {
          "output_type": "execute_result",
          "data": {
            "text/plain": [
              "<Axes: >"
            ]
          },
          "metadata": {},
          "execution_count": 36
        },
        {
          "output_type": "display_data",
          "data": {
            "text/plain": [
              "<Figure size 1800x720 with 2 Axes>"
            ],
            "image/png": "[encoded data removed]"
          },
          "metadata": {
            "needs_background": "light"
          }
        }
      ]
    },
    {
      "cell_type": "code",
      "source": [
        "# Checking the percentage of null values in all columns\n",
        "covid.isnull().mean()*100"
      ],
      "metadata": {
        "colab": {
          "base_uri": "https://localhost:8080/"
        },
        "id": "XSkkR9UjtxpN",
        "outputId": "8648ed74-0ebc-479e-d886-6828ef42639a"
      },
      "execution_count": 37,
      "outputs": [
        {
          "output_type": "execute_result",
          "data": {
            "text/plain": [
              "Ind_ID                  0.000000\n",
              "Test_date               0.000000\n",
              "Cough_symptoms          0.091651\n",
              "Fever                   0.091651\n",
              "Sore_throat             0.000364\n",
              "Shortness_of_breath     0.000364\n",
              "Headache                0.000364\n",
              "Corona                  0.000000\n",
              "Age_60_above           45.703313\n",
              "Sex                     6.926563\n",
              "Known_contact           0.000000\n",
              "dtype: float64"
            ]
          },
          "metadata": {},
          "execution_count": 37
        }
      ]
    },
    {
      "cell_type": "markdown",
      "source": [
        "The column Age_60_above is having 45 percent null values. The remainig columns are having very low percentage of null values, so rows corresponding to these columns were dropped."
      ],
      "metadata": {
        "id": "4gpJ4ZYw0dg9"
      }
    },
    {
      "cell_type": "markdown",
      "source": [
        "###### Creating new dataframe covid_1 containing null values in only Age_60_above column."
      ],
      "metadata": {
        "id": "7efXXC-stfc8"
      }
    },
    {
      "cell_type": "code",
      "source": [
        "covid_1 = covid.dropna(subset= [\"Cough_symptoms\", \"Fever\", \"Sore_throat\",\n",
        "                                \"Shortness_of_breath\", \"Headache\", \"Sex\"], axis= 0)"
      ],
      "metadata": {
        "id": "1vQH5fGu2api"
      },
      "execution_count": 38,
      "outputs": []
    },
    {
      "cell_type": "markdown",
      "source": [
        "###### Imputation of null values"
      ],
      "metadata": {
        "id": "3opxo7STmeVN"
      }
    },
    {
      "cell_type": "code",
      "source": [
        "# Creating new dataframe \n",
        "covid_Impu = covid_1.copy(deep = True)"
      ],
      "metadata": {
        "id": "jeNFgvLRorS3"
      },
      "execution_count": null,
      "outputs": []
    },
    {
      "cell_type": "code",
      "source": [
        "# Mapping the values before imputation\n",
        "covid_Impu['Cough_symptoms'] = covid_Impu['Cough_symptoms'].map( { 'True' : 1, 'False': 0})\n",
        "covid_Impu['Fever'] = covid_Impu['Fever'].map( { 'True' : 1, 'False': 0})\n",
        "covid_Impu['Sore_throat'] = covid_Impu['Sore_throat'].map( { 'True' : 1, 'False': 0})\n",
        "covid_Impu['Shortness_of_breath'] = covid_Impu['Shortness_of_breath'].map( { 'True' : 1, 'False': 0})\n",
        "covid_Impu['Headache'] = covid_Impu['Headache'].map( { 'True' : 1, 'False': 0})\n",
        "covid_Impu['Age_60_above'] = covid_Impu['Age_60_above'].map( { 'Yes' : 1, 'No': 0})\n",
        "covid_Impu['Sex'] = covid_Impu['Sex'].map( { 'Male' : 1, 'Female': 0})\n",
        "covid_Impu['Known_contact'] = covid_Impu['Known_contact'].map( { 'Contact_with_confirmed' : 1, \n",
        "                                                      'Abroad': 2,\n",
        "                                                       'Other': 3 })"
      ],
      "metadata": {
        "id": "0KXtt3gim6GO"
      },
      "execution_count": null,
      "outputs": []
    },
    {
      "cell_type": "code",
      "source": [
        "# Dropping the target variable before imputation\n",
        "covid_Impu.drop(['Test_date' ,'Corona'], axis=1, inplace= True)"
      ],
      "metadata": {
        "id": "i-Dt7c66pR-O"
      },
      "execution_count": null,
      "outputs": []
    },
    {
      "cell_type": "code",
      "source": [
        "!pip install fancyimpute"
      ],
      "metadata": {
        "id": "RAwk2oO5qTrZ",
        "colab": {
          "base_uri": "https://localhost:8080/"
        },
        "outputId": "b21076c7-6f6b-44d8-c70e-9317843c32ca"
      },
      "execution_count": null,
      "outputs": [
        {
          "output_type": "stream",
          "name": "stdout",
          "text": [
            "Looking in indexes: https://pypi.org/simple, https://us-python.pkg.dev/colab-wheels/public/simple/\n",
            "Collecting fancyimpute\n",
            "  Downloading fancyimpute-0.7.0.tar.gz (25 kB)\n",
            "  Preparing metadata (setup.py) ... \u001b[?25l\u001b[?25hdone\n",
            "Collecting knnimpute>=0.1.0\n",
            "  Downloading knnimpute-0.1.0.tar.gz (8.3 kB)\n",
            "  Preparing metadata (setup.py) ... \u001b[?25l\u001b[?25hdone\n",
            "Requirement already satisfied: scikit-learn>=0.24.2 in /usr/local/lib/python3.8/dist-packages (from fancyimpute) (1.0.2)\n",
            "Requirement already satisfied: cvxpy in /usr/local/lib/python3.8/dist-packages (from fancyimpute) (1.2.3)\n",
            "Requirement already satisfied: cvxopt in /usr/local/lib/python3.8/dist-packages (from fancyimpute) (1.3.0)\n",
            "Requirement already satisfied: pytest in /usr/local/lib/python3.8/dist-packages (from fancyimpute) (3.6.4)\n",
            "Collecting nose\n",
            "  Downloading nose-1.3.7-py3-none-any.whl (154 kB)\n",
            "\u001b[2K     \u001b[90m━━━━━━━━━━━━━━━━━━━━━━━━━━━━━━━━━━━━━━\u001b[0m \u001b[32m154.7/154.7 KB\u001b[0m \u001b[31m15.0 MB/s\u001b[0m eta \u001b[36m0:00:00\u001b[0m\n",
            "\u001b[?25hRequirement already satisfied: six in /usr/local/lib/python3.8/dist-packages (from knnimpute>=0.1.0->fancyimpute) (1.15.0)\n",
            "Requirement already satisfied: numpy>=1.10 in /usr/local/lib/python3.8/dist-packages (from knnimpute>=0.1.0->fancyimpute) (1.21.6)\n",
            "Requirement already satisfied: scipy>=1.1.0 in /usr/local/lib/python3.8/dist-packages (from scikit-learn>=0.24.2->fancyimpute) (1.7.3)\n",
            "Requirement already satisfied: threadpoolctl>=2.0.0 in /usr/local/lib/python3.8/dist-packages (from scikit-learn>=0.24.2->fancyimpute) (3.1.0)\n",
            "Requirement already satisfied: joblib>=0.11 in /usr/local/lib/python3.8/dist-packages (from scikit-learn>=0.24.2->fancyimpute) (1.2.0)\n",
            "Requirement already satisfied: scs>=1.1.6 in /usr/local/lib/python3.8/dist-packages (from cvxpy->fancyimpute) (3.2.2)\n",
            "Requirement already satisfied: setuptools<=64.0.2 in /usr/local/lib/python3.8/dist-packages (from cvxpy->fancyimpute) (57.4.0)\n",
            "Requirement already satisfied: osqp>=0.4.1 in /usr/local/lib/python3.8/dist-packages (from cvxpy->fancyimpute) (0.6.2.post0)\n",
            "Requirement already satisfied: ecos>=2 in /usr/local/lib/python3.8/dist-packages (from cvxpy->fancyimpute) (2.0.12)\n",
            "Requirement already satisfied: attrs>=17.4.0 in /usr/local/lib/python3.8/dist-packages (from pytest->fancyimpute) (22.2.0)\n",
            "Requirement already satisfied: atomicwrites>=1.0 in /usr/local/lib/python3.8/dist-packages (from pytest->fancyimpute) (1.4.1)\n",
            "Requirement already satisfied: py>=1.5.0 in /usr/local/lib/python3.8/dist-packages (from pytest->fancyimpute) (1.11.0)\n",
            "Requirement already satisfied: pluggy<0.8,>=0.5 in /usr/local/lib/python3.8/dist-packages (from pytest->fancyimpute) (0.7.1)\n",
            "Requirement already satisfied: more-itertools>=4.0.0 in /usr/local/lib/python3.8/dist-packages (from pytest->fancyimpute) (9.0.0)\n",
            "Requirement already satisfied: qdldl in /usr/local/lib/python3.8/dist-packages (from osqp>=0.4.1->cvxpy->fancyimpute) (0.1.5.post3)\n",
            "Building wheels for collected packages: fancyimpute, knnimpute\n",
            "  Building wheel for fancyimpute (setup.py) ... \u001b[?25l\u001b[?25hdone\n",
            "  Created wheel for fancyimpute: filename=fancyimpute-0.7.0-py3-none-any.whl size=29898 sha256=09e989867cee92bfb3841349e9b142b4e1ea4379d365cfa5be415e648814be07\n",
            "  Stored in directory: /root/.cache/pip/wheels/45/e1/7c/5f6e503d959df84af6d91e87ae288961a906f895d910f6533b\n",
            "  Building wheel for knnimpute (setup.py) ... \u001b[?25l\u001b[?25hdone\n",
            "  Created wheel for knnimpute: filename=knnimpute-0.1.0-py3-none-any.whl size=11353 sha256=b0b2cb537f453f97c57bda09ea16fd7cd7a61c30c97d8c38cfbdd95a89b866ee\n",
            "  Stored in directory: /root/.cache/pip/wheels/5f/e9/7a/9969b4e11eb626b45f12a46849b8c65aa718244a243583caf1\n",
            "Successfully built fancyimpute knnimpute\n",
            "Installing collected packages: nose, knnimpute, fancyimpute\n",
            "Successfully installed fancyimpute-0.7.0 knnimpute-0.1.0 nose-1.3.7\n"
          ]
        }
      ]
    },
    {
      "cell_type": "code",
      "source": [
        "from fancyimpute import IterativeImputer, SoftImpute\n",
        "MICE = IterativeImputer()\n",
        "\n",
        "covid_Impu_MICE = covid_Impu.iloc[:,:].copy(deep=True)\n",
        "covid_Impu_MICE.iloc[:, :] = MICE.fit_transform(covid_Impu_MICE)\n",
        "\n",
        "covid_Impu_si = covid_Impu.iloc[:,:].copy(deep=True)\n",
        "covid_Impu_si.iloc[:, :] = SoftImpute().fit_transform(covid_Impu_si)"
      ],
      "metadata": {
        "id": "MZRTiCzGt3hB",
        "colab": {
          "base_uri": "https://localhost:8080/"
        },
        "outputId": "7d7ff355-1fae-46a9-d328-e65c1189ac3e"
      },
      "execution_count": null,
      "outputs": [
        {
          "output_type": "stream",
          "name": "stdout",
          "text": [
            "[SoftImpute] Max Singular Value of X_init = 83687982.831362\n",
            "[SoftImpute] Iter 1: observed MAE=345.553133 rank=1\n",
            "[SoftImpute] Iter 2: observed MAE=345.554297 rank=1\n",
            "[SoftImpute] Iter 3: observed MAE=345.554971 rank=1\n",
            "[SoftImpute] Iter 4: observed MAE=345.555509 rank=1\n",
            "[SoftImpute] Iter 5: observed MAE=345.555945 rank=1\n",
            "[SoftImpute] Iter 6: observed MAE=345.556299 rank=1\n",
            "[SoftImpute] Iter 7: observed MAE=345.556587 rank=1\n",
            "[SoftImpute] Iter 8: observed MAE=345.556820 rank=1\n",
            "[SoftImpute] Iter 9: observed MAE=345.557009 rank=1\n",
            "[SoftImpute] Iter 10: observed MAE=345.557163 rank=1\n",
            "[SoftImpute] Iter 11: observed MAE=345.557287 rank=1\n",
            "[SoftImpute] Iter 12: observed MAE=345.557388 rank=1\n",
            "[SoftImpute] Iter 13: observed MAE=345.557470 rank=1\n",
            "[SoftImpute] Iter 14: observed MAE=345.557537 rank=1\n",
            "[SoftImpute] Iter 15: observed MAE=345.557591 rank=1\n",
            "[SoftImpute] Iter 16: observed MAE=345.557635 rank=1\n",
            "[SoftImpute] Iter 17: observed MAE=345.557670 rank=1\n",
            "[SoftImpute] Iter 18: observed MAE=345.557699 rank=1\n",
            "[SoftImpute] Iter 19: observed MAE=345.557723 rank=1\n",
            "[SoftImpute] Iter 20: observed MAE=345.557742 rank=1\n",
            "[SoftImpute] Iter 21: observed MAE=345.557757 rank=1\n",
            "[SoftImpute] Iter 22: observed MAE=345.557770 rank=1\n",
            "[SoftImpute] Iter 23: observed MAE=345.557780 rank=1\n",
            "[SoftImpute] Iter 24: observed MAE=345.557788 rank=1\n",
            "[SoftImpute] Stopped after iteration 24 for lambda=1673759.656627\n"
          ]
        }
      ]
    },
    {
      "cell_type": "code",
      "source": [
        "import missingno as mn\n",
        "mn.matrix(covid_Impu_si)"
      ],
      "metadata": {
        "colab": {
          "base_uri": "https://localhost:8080/",
          "height": 379
        },
        "id": "f6zB9Rfd3y4r",
        "outputId": "f74f8bfd-0aaa-4bba-e050-e04c2594f263"
      },
      "execution_count": null,
      "outputs": [
        {
          "output_type": "execute_result",
          "data": {
            "text/plain": [
              "<matplotlib.axes._subplots.AxesSubplot at 0x7f79df01f3d0>"
            ]
          },
          "metadata": {},
          "execution_count": 28
        },
        {
          "output_type": "display_data",
          "data": {
            "text/plain": [
              "<Figure size 1800x720 with 2 Axes>"
            ],
            "image/png": "[encoded data removed]"
          },
          "metadata": {
            "needs_background": "light"
          }
        }
      ]
    },
    {
      "cell_type": "code",
      "source": [
        "# round the values\n",
        "a = round(covid_Impu_MICE['Age_60_above'])\n",
        "b = round(covid_Impu_MICE['Age_60_above'])\n",
        "# Map them to categories\n",
        "Age_imputed_mice = a.map( { 1 : 'Yes' , 0 : 'No' } )\n",
        "Age_imputed_si = b.map( { 1 : 'Yes' , 0 : 'No' } )"
      ],
      "metadata": {
        "id": "dgZEdL53zJOb"
      },
      "execution_count": null,
      "outputs": []
    },
    {
      "cell_type": "code",
      "source": [
        "print(covid_1['Age_60_above'].value_counts()) # without imputation\n",
        "print(Age_imputed_mice.value_counts()) # MICE imputation\n",
        "print(Age_imputed_si.value_counts())  # SoftImpute"
      ],
      "metadata": {
        "colab": {
          "base_uri": "https://localhost:8080/"
        },
        "id": "8wHoQwZfzTqH",
        "outputId": "1251bd32-3ec4-4ca8-8aa9-97642a06d56e"
      },
      "execution_count": null,
      "outputs": [
        {
          "output_type": "stream",
          "name": "stdout",
          "text": [
            "No     112593\n",
            "Yes     23701\n",
            "Name: Age_60_above, dtype: int64\n",
            "No     231967\n",
            "Yes     23701\n",
            "Name: Age_60_above, dtype: int64\n",
            "No     231967\n",
            "Yes     23701\n",
            "Name: Age_60_above, dtype: int64\n"
          ]
        }
      ]
    },
    {
      "cell_type": "markdown",
      "source": [
        "**Imputation resulted in only increase in 'No' value for Age_60_above. Hence it's dropped.**\n"
      ],
      "metadata": {
        "id": "EF-eJ7uiLt1A"
      }
    },
    {
      "cell_type": "code",
      "source": [
        "covid_1.info()"
      ],
      "metadata": {
        "colab": {
          "base_uri": "https://localhost:8080/"
        },
        "id": "DNKbnxULOYGR",
        "outputId": "d620e9b7-2fcd-4374-e64a-71d8c1f0d871"
      },
      "execution_count": 39,
      "outputs": [
        {
          "output_type": "stream",
          "name": "stdout",
          "text": [
            "<class 'pandas.core.frame.DataFrame'>\n",
            "Int64Index: 255668 entries, 13727 to 278847\n",
            "Data columns (total 11 columns):\n",
            " #   Column               Non-Null Count   Dtype         \n",
            "---  ------               --------------   -----         \n",
            " 0   Ind_ID               255668 non-null  int64         \n",
            " 1   Test_date            255668 non-null  datetime64[ns]\n",
            " 2   Cough_symptoms       255668 non-null  object        \n",
            " 3   Fever                255668 non-null  object        \n",
            " 4   Sore_throat          255668 non-null  object        \n",
            " 5   Shortness_of_breath  255668 non-null  object        \n",
            " 6   Headache             255668 non-null  object        \n",
            " 7   Corona               255668 non-null  object        \n",
            " 8   Age_60_above         136294 non-null  object        \n",
            " 9   Sex                  255668 non-null  object        \n",
            " 10  Known_contact        255668 non-null  object        \n",
            "dtypes: datetime64[ns](1), int64(1), object(9)\n",
            "memory usage: 23.4+ MB\n"
          ]
        }
      ]
    },
    {
      "cell_type": "code",
      "source": [
        "# Exporting the data to perform SQL queries before dropping the age column.\n",
        "#covid_1.loc[:,'Age_60_above'] = Age_imputed_mice\n",
        "#covid_1.to_csv('Covid_data__for_sql.csv') "
      ],
      "metadata": {
        "colab": {
          "base_uri": "https://localhost:8080/"
        },
        "id": "Fhks5_aDDJjp",
        "outputId": "cda60266-ee32-4991-c712-83d6fe2f4b2b"
      },
      "execution_count": null,
      "outputs": [
        {
          "output_type": "stream",
          "name": "stderr",
          "text": [
            "/usr/local/lib/python3.8/dist-packages/pandas/core/indexing.py:1773: SettingWithCopyWarning: \n",
            "A value is trying to be set on a copy of a slice from a DataFrame.\n",
            "Try using .loc[row_indexer,col_indexer] = value instead\n",
            "\n",
            "See the caveats in the documentation: https://pandas.pydata.org/pandas-docs/stable/user_guide/indexing.html#returning-a-view-versus-a-copy\n",
            "  self._setitem_single_column(ilocs[0], value, pi)\n"
          ]
        }
      ]
    },
    {
      "cell_type": "code",
      "source": [
        "# Changing the index to the individual id\n",
        "covid_1.set_index(covid_1['Ind_ID'], inplace = True )\n",
        "# Dropping the columns\n",
        "covid_1.drop(['Ind_ID', 'Age_60_above'], axis= 1, inplace= True )       # 'Age_60_above'"
      ],
      "metadata": {
        "id": "Mav0TAUz0PhL",
        "colab": {
          "base_uri": "https://localhost:8080/"
        },
        "outputId": "f84fc56b-0e27-43ee-9885-8e24c36939d2"
      },
      "execution_count": 40,
      "outputs": [
        {
          "output_type": "stream",
          "name": "stderr",
          "text": [
            "<ipython-input-40-44e58910b333>:4: SettingWithCopyWarning: \n",
            "A value is trying to be set on a copy of a slice from a DataFrame\n",
            "\n",
            "See the caveats in the documentation: https://pandas.pydata.org/pandas-docs/stable/user_guide/indexing.html#returning-a-view-versus-a-copy\n",
            "  covid_1.drop(['Ind_ID', 'Age_60_above'], axis= 1, inplace= True )       # 'Age_60_above'\n"
          ]
        }
      ]
    },
    {
      "cell_type": "code",
      "source": [
        "covid_1.isnull().sum()"
      ],
      "metadata": {
        "colab": {
          "base_uri": "https://localhost:8080/"
        },
        "id": "45V6hIGa4Ueq",
        "outputId": "7395006c-999a-4cde-feb5-00595d981afd"
      },
      "execution_count": 41,
      "outputs": [
        {
          "output_type": "execute_result",
          "data": {
            "text/plain": [
              "Test_date              0\n",
              "Cough_symptoms         0\n",
              "Fever                  0\n",
              "Sore_throat            0\n",
              "Shortness_of_breath    0\n",
              "Headache               0\n",
              "Corona                 0\n",
              "Sex                    0\n",
              "Known_contact          0\n",
              "dtype: int64"
            ]
          },
          "metadata": {},
          "execution_count": 41
        }
      ]
    },
    {
      "cell_type": "markdown",
      "source": [
        "\n",
        "#### Examinig the distribution of all columns"
      ],
      "metadata": {
        "id": "WGlTG3JR5jBz"
      }
    },
    {
      "cell_type": "code",
      "source": [
        "covid_1.columns"
      ],
      "metadata": {
        "colab": {
          "base_uri": "https://localhost:8080/"
        },
        "id": "XhlE-uyf52Ed",
        "outputId": "a33afcc1-6575-4a92-ebf9-ea9603e9df94"
      },
      "execution_count": 68,
      "outputs": [
        {
          "output_type": "execute_result",
          "data": {
            "text/plain": [
              "Index(['Test_date', 'Cough_symptoms', 'Fever', 'Sore_throat',\n",
              "       'Shortness_of_breath', 'Headache', 'Corona', 'Sex', 'Known_contact'],\n",
              "      dtype='object')"
            ]
          },
          "metadata": {},
          "execution_count": 68
        }
      ]
    },
    {
      "cell_type": "code",
      "source": [
        "# Examining the distribution of all variables\n",
        "plt.figure(figsize = (20, 15))\n",
        "\n",
        "sns.countplot(x= covid_1['Cough_symptoms'])\n",
        "plt.subplot(3,3,1)\n",
        "\n",
        "sns.countplot(x= covid_1['Cough_symptoms'])\n",
        "plt.subplot(3,3,2)\n",
        "\n",
        "sns.countplot(x= covid_1['Fever'])\n",
        "plt.subplot(3,3,3)\n",
        "\n",
        "sns.countplot(x= covid_1['Sore_throat'])\n",
        "plt.subplot(3,3,4)\n",
        "\n",
        "sns.countplot(x= covid_1['Shortness_of_breath'])\n",
        "plt.subplot(3,3,5)\n",
        "\n",
        "sns.countplot(x= covid_1['Headache'])\n",
        "plt.subplot(3,3,6)\n",
        "\n",
        "sns.countplot(x= covid_1['Known_contact'])\n",
        "plt.subplot(3,3,7)\n",
        "\n",
        "sns.countplot(x= covid_1['Sex'])\n",
        "plt.subplot(3,3,8)\n",
        "\n",
        "sns.countplot(x= covid_1['Corona'])\n",
        "plt.subplot(3,3,9)\n",
        "\n",
        "plt.show()"
      ],
      "metadata": {
        "colab": {
          "base_uri": "https://localhost:8080/",
          "height": 819
        },
        "id": "Xz_0faHN13XB",
        "outputId": "16dcdaba-43d1-4134-9647-717e47ff6e70"
      },
      "execution_count": 73,
      "outputs": [
        {
          "output_type": "stream",
          "name": "stderr",
          "text": [
            "<ipython-input-73-aa1e57ef1fbf>:5: MatplotlibDeprecationWarning: Auto-removal of overlapping axes is deprecated since 3.6 and will be removed two minor releases later; explicitly call ax.remove() as needed.\n",
            "  plt.subplot(3,3,1)\n"
          ]
        },
        {
          "output_type": "display_data",
          "data": {
            "text/plain": [
              "<Figure size 1440x1080 with 9 Axes>"
            ],
            "image/png": "[encoded data removed]"
          },
          "metadata": {
            "needs_background": "light"
          }
        }
      ]
    },
    {
      "cell_type": "markdown",
      "source": [
        "**Obs:** Unbalanced dataset, as the **target varaible Corona** doesn't have equal number of instances for it's 2 values. "
      ],
      "metadata": {
        "id": "XQSUUjRT8mUt"
      }
    },
    {
      "cell_type": "markdown",
      "source": [
        "### EDA"
      ],
      "metadata": {
        "id": "-Q8ZZzIAZ9bX"
      }
    },
    {
      "cell_type": "code",
      "source": [
        "# Creating the facetgrid. \n",
        "graph = sns.FacetGrid(covid_1, col= 'Fever', hue= 'Corona', height= 4, aspect= 1)\n",
        "# Mapping the attributes with facetgrid\n",
        "graph.map(sns.countplot,'Cough_symptoms').add_legend()\n",
        "# Adding title\n",
        "graph.fig.suptitle('Bar plot for variable Cough_symptoms with Fever')\n",
        "graph.fig.subplots_adjust(top= 0.8)"
      ],
      "metadata": {
        "id": "OV5NIayr13Tg",
        "colab": {
          "base_uri": "https://localhost:8080/",
          "height": 357
        },
        "outputId": "80833d39-a978-4d42-bce7-459c4757ac85"
      },
      "execution_count": 74,
      "outputs": [
        {
          "output_type": "stream",
          "name": "stderr",
          "text": [
            "/usr/local/lib/python3.9/dist-packages/seaborn/axisgrid.py:712: UserWarning: Using the countplot function without specifying `order` is likely to produce an incorrect plot.\n",
            "  warnings.warn(warning)\n"
          ]
        },
        {
          "output_type": "display_data",
          "data": {
            "text/plain": [
              "<Figure size 656.875x288 with 2 Axes>"
            ],
            "image/png": "[encoded data removed]"
          },
          "metadata": {
            "needs_background": "light"
          }
        }
      ]
    },
    {
      "cell_type": "markdown",
      "source": [
        "**Obs:** People with fever and cough are more likely found to be covid positive."
      ],
      "metadata": {
        "id": "J8V_Ygp0hm1E"
      }
    },
    {
      "cell_type": "code",
      "source": [
        "# Creating the facetgrid. \n",
        "graph = sns.FacetGrid(covid_1, col= 'Known_contact', hue= 'Corona', height= 4, aspect= 1)\n",
        "# Mapping the attributes with facetgrid\n",
        "graph.map(sns.countplot,'Fever').add_legend()\n",
        "# Adding title\n",
        "graph.fig.suptitle('Bar plot for variable Fever with Known_contact')\n",
        "graph.fig.subplots_adjust(top= 0.8)"
      ],
      "metadata": {
        "id": "28YjuMdL13Qg",
        "colab": {
          "base_uri": "https://localhost:8080/",
          "height": 357
        },
        "outputId": "1f13a4ac-ff28-4f78-ec79-c8271636157d"
      },
      "execution_count": 75,
      "outputs": [
        {
          "output_type": "stream",
          "name": "stderr",
          "text": [
            "/usr/local/lib/python3.9/dist-packages/seaborn/axisgrid.py:712: UserWarning: Using the countplot function without specifying `order` is likely to produce an incorrect plot.\n",
            "  warnings.warn(warning)\n"
          ]
        },
        {
          "output_type": "display_data",
          "data": {
            "text/plain": [
              "<Figure size 944.875x288 with 3 Axes>"
            ],
            "image/png": "[encoded data removed]"
          },
          "metadata": {
            "needs_background": "light"
          }
        }
      ]
    },
    {
      "cell_type": "markdown",
      "source": [
        "**Obs:** Irrespective of the fever condition, if a person is having a contact with an infected person then he is more likely to be found positive in the test"
      ],
      "metadata": {
        "id": "YVlPTW7woiVY"
      }
    },
    {
      "cell_type": "code",
      "source": [
        "# Creating the facetgrid. \n",
        "graph = sns.FacetGrid(covid_1 , hue= 'Corona', height= 4, aspect= 1)\n",
        "# Mapping the attributes with facetgrid\n",
        "graph.map(sns.countplot,'Sore_throat').add_legend()\n",
        "# Adding title\n",
        "graph.fig.suptitle('Bar plot for variable Sore_throat')\n",
        "graph.fig.subplots_adjust(top= 0.8)"
      ],
      "metadata": {
        "colab": {
          "base_uri": "https://localhost:8080/",
          "height": 357
        },
        "id": "608xG8W0w8Ib",
        "outputId": "79d74d58-4bad-4210-ffb6-7e8dc0196bf5"
      },
      "execution_count": 77,
      "outputs": [
        {
          "output_type": "stream",
          "name": "stderr",
          "text": [
            "/usr/local/lib/python3.9/dist-packages/seaborn/axisgrid.py:712: UserWarning: Using the countplot function without specifying `order` is likely to produce an incorrect plot.\n",
            "  warnings.warn(warning)\n"
          ]
        },
        {
          "output_type": "display_data",
          "data": {
            "text/plain": [
              "<Figure size 368.875x288 with 1 Axes>"
            ],
            "image/png": "[encoded data removed]"
          },
          "metadata": {
            "needs_background": "light"
          }
        }
      ]
    },
    {
      "cell_type": "code",
      "source": [
        "# Examining the count \n",
        "pd.crosstab(covid_1['Corona'], covid_1['Sore_throat'])"
      ],
      "metadata": {
        "colab": {
          "base_uri": "https://localhost:8080/",
          "height": 143
        },
        "id": "2460L6UUxDw8",
        "outputId": "d3fa3caf-fc98-4b43-b9bd-db73fd5e3bfe"
      },
      "execution_count": 78,
      "outputs": [
        {
          "output_type": "execute_result",
          "data": {
            "text/plain": [
              "Sore_throat   False  True\n",
              "Corona                   \n",
              "Negative     241999   137\n",
              "Positive      12173  1359"
            ],
            "text/html": [
              "\n",
              "  <div id=\"df-63543c0d-7008-4adf-bd3e-15aa9eb12f35\">\n",
              "    <div class=\"colab-df-container\">\n",
              "      <div>\n",
              "<style scoped>\n",
              "    .dataframe tbody tr th:only-of-type {\n",
              "        vertical-align: middle;\n",
              "    }\n",
              "\n",
              "    .dataframe tbody tr th {\n",
              "        vertical-align: top;\n",
              "    }\n",
              "\n",
              "    .dataframe thead th {\n",
              "        text-align: right;\n",
              "    }\n",
              "</style>\n",
              "<table border=\"1\" class=\"dataframe\">\n",
              "  <thead>\n",
              "    <tr style=\"text-align: right;\">\n",
              "      <th>Sore_throat</th>\n",
              "      <th>False</th>\n",
              "      <th>True</th>\n",
              "    </tr>\n",
              "    <tr>\n",
              "      <th>Corona</th>\n",
              "      <th></th>\n",
              "      <th></th>\n",
              "    </tr>\n",
              "  </thead>\n",
              "  <tbody>\n",
              "    <tr>\n",
              "      <th>Negative</th>\n",
              "      <td>241999</td>\n",
              "      <td>137</td>\n",
              "    </tr>\n",
              "    <tr>\n",
              "      <th>Positive</th>\n",
              "      <td>12173</td>\n",
              "      <td>1359</td>\n",
              "    </tr>\n",
              "  </tbody>\n",
              "</table>\n",
              "</div>\n",
              "      <button class=\"colab-df-convert\" onclick=\"convertToInteractive('df-63543c0d-7008-4adf-bd3e-15aa9eb12f35')\"\n",
              "              title=\"Convert this dataframe to an interactive table.\"\n",
              "              style=\"display:none;\">\n",
              "        \n",
              "  <svg xmlns=\"http://www.w3.org/2000/svg\" height=\"24px\"viewBox=\"0 0 24 24\"\n",
              "       width=\"24px\">\n",
              "    <path d=\"M0 0h24v24H0V0z\" fill=\"none\"/>\n",
              "    <path d=\"M18.56 5.44l.94 2.06.94-2.06 2.06-.94-2.06-.94-.94-2.06-.94 2.06-2.06.94zm-11 1L8.5 8.5l.94-2.06 2.06-.94-2.06-.94L8.5 2.5l-.94 2.06-2.06.94zm10 10l.94 2.06.94-2.06 2.06-.94-2.06-.94-.94-2.06-.94 2.06-2.06.94z\"/><path d=\"M17.41 7.96l-1.37-1.37c-.4-.4-.92-.59-1.43-.59-.52 0-1.04.2-1.43.59L10.3 9.45l-7.72 7.72c-.78.78-.78 2.05 0 2.83L4 21.41c.39.39.9.59 1.41.59.51 0 1.02-.2 1.41-.59l7.78-7.78 2.81-2.81c.8-.78.8-2.07 0-2.86zM5.41 20L4 18.59l7.72-7.72 1.47 1.35L5.41 20z\"/>\n",
              "  </svg>\n",
              "      </button>\n",
              "      \n",
              "  <style>\n",
              "    .colab-df-container {\n",
              "      display:flex;\n",
              "      flex-wrap:wrap;\n",
              "      gap: 12px;\n",
              "    }\n",
              "\n",
              "    .colab-df-convert {\n",
              "      background-color: #E8F0FE;\n",
              "      border: none;\n",
              "      border-radius: 50%;\n",
              "      cursor: pointer;\n",
              "      display: none;\n",
              "      fill: #1967D2;\n",
              "      height: 32px;\n",
              "      padding: 0 0 0 0;\n",
              "      width: 32px;\n",
              "    }\n",
              "\n",
              "    .colab-df-convert:hover {\n",
              "      background-color: #E2EBFA;\n",
              "      box-shadow: 0px 1px 2px rgba(60, 64, 67, 0.3), 0px 1px 3px 1px rgba(60, 64, 67, 0.15);\n",
              "      fill: #174EA6;\n",
              "    }\n",
              "\n",
              "    [theme=dark] .colab-df-convert {\n",
              "      background-color: #3B4455;\n",
              "      fill: #D2E3FC;\n",
              "    }\n",
              "\n",
              "    [theme=dark] .colab-df-convert:hover {\n",
              "      background-color: #434B5C;\n",
              "      box-shadow: 0px 1px 3px 1px rgba(0, 0, 0, 0.15);\n",
              "      filter: drop-shadow(0px 1px 2px rgba(0, 0, 0, 0.3));\n",
              "      fill: #FFFFFF;\n",
              "    }\n",
              "  </style>\n",
              "\n",
              "      <script>\n",
              "        const buttonEl =\n",
              "          document.querySelector('#df-63543c0d-7008-4adf-bd3e-15aa9eb12f35 button.colab-df-convert');\n",
              "        buttonEl.style.display =\n",
              "          google.colab.kernel.accessAllowed ? 'block' : 'none';\n",
              "\n",
              "        async function convertToInteractive(key) {\n",
              "          const element = document.querySelector('#df-63543c0d-7008-4adf-bd3e-15aa9eb12f35');\n",
              "          const dataTable =\n",
              "            await google.colab.kernel.invokeFunction('convertToInteractive',\n",
              "                                                     [key], {});\n",
              "          if (!dataTable) return;\n",
              "\n",
              "          const docLinkHtml = 'Like what you see? Visit the ' +\n",
              "            '<a target=\"_blank\" href=https://colab.research.google.com/notebooks/data_table.ipynb>data table notebook</a>'\n",
              "            + ' to learn more about interactive tables.';\n",
              "          element.innerHTML = '';\n",
              "          dataTable['output_type'] = 'display_data';\n",
              "          await google.colab.output.renderOutput(dataTable, element);\n",
              "          const docLink = document.createElement('div');\n",
              "          docLink.innerHTML = docLinkHtml;\n",
              "          element.appendChild(docLink);\n",
              "        }\n",
              "      </script>\n",
              "    </div>\n",
              "  </div>\n",
              "  "
            ]
          },
          "metadata": {},
          "execution_count": 78
        }
      ]
    },
    {
      "cell_type": "markdown",
      "source": [
        "**Obs:** If a person is found to have sore throat then there's chance to be found covid positive. But in the given dataset, very few cases with Sore_throat = True were found."
      ],
      "metadata": {
        "id": "XKNkakjlxL45"
      }
    },
    {
      "cell_type": "code",
      "source": [
        "# Creating the facetgrid. \n",
        "graph = sns.FacetGrid(covid_1 , hue= 'Corona', height= 4, aspect= 1)\n",
        "# Mapping the attributes with facetgrid\n",
        "graph.map(sns.countplot,'Shortness_of_breath').add_legend()\n",
        "# Adding title\n",
        "graph.fig.suptitle('Bar plot for variable Shortness_of_breath')\n",
        "graph.fig.subplots_adjust(top= 0.8)"
      ],
      "metadata": {
        "id": "iLgQCYbd13NI",
        "colab": {
          "base_uri": "https://localhost:8080/",
          "height": 357
        },
        "outputId": "6ce051d0-b4df-4b9a-a2b7-0ad855a3dd00"
      },
      "execution_count": 79,
      "outputs": [
        {
          "output_type": "stream",
          "name": "stderr",
          "text": [
            "/usr/local/lib/python3.9/dist-packages/seaborn/axisgrid.py:712: UserWarning: Using the countplot function without specifying `order` is likely to produce an incorrect plot.\n",
            "  warnings.warn(warning)\n"
          ]
        },
        {
          "output_type": "display_data",
          "data": {
            "text/plain": [
              "<Figure size 368.875x288 with 1 Axes>"
            ],
            "image/png": "[encoded data removed]"
          },
          "metadata": {
            "needs_background": "light"
          }
        }
      ]
    },
    {
      "cell_type": "code",
      "source": [
        "# Examining the count \n",
        "pd.crosstab(covid_1['Corona'], covid_1['Shortness_of_breath'])"
      ],
      "metadata": {
        "colab": {
          "base_uri": "https://localhost:8080/",
          "height": 143
        },
        "id": "RIkSXJ4lpUjB",
        "outputId": "c0ff9ed1-777d-4e16-bd75-a4e1d81457f4"
      },
      "execution_count": 80,
      "outputs": [
        {
          "output_type": "execute_result",
          "data": {
            "text/plain": [
              "Shortness_of_breath   False  True\n",
              "Corona                           \n",
              "Negative             242037    99\n",
              "Positive              12553   979"
            ],
            "text/html": [
              "\n",
              "  <div id=\"df-b22c7975-835e-4915-a4ef-dbfb798b3d16\">\n",
              "    <div class=\"colab-df-container\">\n",
              "      <div>\n",
              "<style scoped>\n",
              "    .dataframe tbody tr th:only-of-type {\n",
              "        vertical-align: middle;\n",
              "    }\n",
              "\n",
              "    .dataframe tbody tr th {\n",
              "        vertical-align: top;\n",
              "    }\n",
              "\n",
              "    .dataframe thead th {\n",
              "        text-align: right;\n",
              "    }\n",
              "</style>\n",
              "<table border=\"1\" class=\"dataframe\">\n",
              "  <thead>\n",
              "    <tr style=\"text-align: right;\">\n",
              "      <th>Shortness_of_breath</th>\n",
              "      <th>False</th>\n",
              "      <th>True</th>\n",
              "    </tr>\n",
              "    <tr>\n",
              "      <th>Corona</th>\n",
              "      <th></th>\n",
              "      <th></th>\n",
              "    </tr>\n",
              "  </thead>\n",
              "  <tbody>\n",
              "    <tr>\n",
              "      <th>Negative</th>\n",
              "      <td>242037</td>\n",
              "      <td>99</td>\n",
              "    </tr>\n",
              "    <tr>\n",
              "      <th>Positive</th>\n",
              "      <td>12553</td>\n",
              "      <td>979</td>\n",
              "    </tr>\n",
              "  </tbody>\n",
              "</table>\n",
              "</div>\n",
              "      <button class=\"colab-df-convert\" onclick=\"convertToInteractive('df-b22c7975-835e-4915-a4ef-dbfb798b3d16')\"\n",
              "              title=\"Convert this dataframe to an interactive table.\"\n",
              "              style=\"display:none;\">\n",
              "        \n",
              "  <svg xmlns=\"http://www.w3.org/2000/svg\" height=\"24px\"viewBox=\"0 0 24 24\"\n",
              "       width=\"24px\">\n",
              "    <path d=\"M0 0h24v24H0V0z\" fill=\"none\"/>\n",
              "    <path d=\"M18.56 5.44l.94 2.06.94-2.06 2.06-.94-2.06-.94-.94-2.06-.94 2.06-2.06.94zm-11 1L8.5 8.5l.94-2.06 2.06-.94-2.06-.94L8.5 2.5l-.94 2.06-2.06.94zm10 10l.94 2.06.94-2.06 2.06-.94-2.06-.94-.94-2.06-.94 2.06-2.06.94z\"/><path d=\"M17.41 7.96l-1.37-1.37c-.4-.4-.92-.59-1.43-.59-.52 0-1.04.2-1.43.59L10.3 9.45l-7.72 7.72c-.78.78-.78 2.05 0 2.83L4 21.41c.39.39.9.59 1.41.59.51 0 1.02-.2 1.41-.59l7.78-7.78 2.81-2.81c.8-.78.8-2.07 0-2.86zM5.41 20L4 18.59l7.72-7.72 1.47 1.35L5.41 20z\"/>\n",
              "  </svg>\n",
              "      </button>\n",
              "      \n",
              "  <style>\n",
              "    .colab-df-container {\n",
              "      display:flex;\n",
              "      flex-wrap:wrap;\n",
              "      gap: 12px;\n",
              "    }\n",
              "\n",
              "    .colab-df-convert {\n",
              "      background-color: #E8F0FE;\n",
              "      border: none;\n",
              "      border-radius: 50%;\n",
              "      cursor: pointer;\n",
              "      display: none;\n",
              "      fill: #1967D2;\n",
              "      height: 32px;\n",
              "      padding: 0 0 0 0;\n",
              "      width: 32px;\n",
              "    }\n",
              "\n",
              "    .colab-df-convert:hover {\n",
              "      background-color: #E2EBFA;\n",
              "      box-shadow: 0px 1px 2px rgba(60, 64, 67, 0.3), 0px 1px 3px 1px rgba(60, 64, 67, 0.15);\n",
              "      fill: #174EA6;\n",
              "    }\n",
              "\n",
              "    [theme=dark] .colab-df-convert {\n",
              "      background-color: #3B4455;\n",
              "      fill: #D2E3FC;\n",
              "    }\n",
              "\n",
              "    [theme=dark] .colab-df-convert:hover {\n",
              "      background-color: #434B5C;\n",
              "      box-shadow: 0px 1px 3px 1px rgba(0, 0, 0, 0.15);\n",
              "      filter: drop-shadow(0px 1px 2px rgba(0, 0, 0, 0.3));\n",
              "      fill: #FFFFFF;\n",
              "    }\n",
              "  </style>\n",
              "\n",
              "      <script>\n",
              "        const buttonEl =\n",
              "          document.querySelector('#df-b22c7975-835e-4915-a4ef-dbfb798b3d16 button.colab-df-convert');\n",
              "        buttonEl.style.display =\n",
              "          google.colab.kernel.accessAllowed ? 'block' : 'none';\n",
              "\n",
              "        async function convertToInteractive(key) {\n",
              "          const element = document.querySelector('#df-b22c7975-835e-4915-a4ef-dbfb798b3d16');\n",
              "          const dataTable =\n",
              "            await google.colab.kernel.invokeFunction('convertToInteractive',\n",
              "                                                     [key], {});\n",
              "          if (!dataTable) return;\n",
              "\n",
              "          const docLinkHtml = 'Like what you see? Visit the ' +\n",
              "            '<a target=\"_blank\" href=https://colab.research.google.com/notebooks/data_table.ipynb>data table notebook</a>'\n",
              "            + ' to learn more about interactive tables.';\n",
              "          element.innerHTML = '';\n",
              "          dataTable['output_type'] = 'display_data';\n",
              "          await google.colab.output.renderOutput(dataTable, element);\n",
              "          const docLink = document.createElement('div');\n",
              "          docLink.innerHTML = docLinkHtml;\n",
              "          element.appendChild(docLink);\n",
              "        }\n",
              "      </script>\n",
              "    </div>\n",
              "  </div>\n",
              "  "
            ]
          },
          "metadata": {},
          "execution_count": 80
        }
      ]
    },
    {
      "cell_type": "markdown",
      "source": [
        "**Obs:** If a person experiences shortness of breath then there's a chance to be found covid positive. But in the given dataset, very few cases with Shortness_of_breath = True were found."
      ],
      "metadata": {
        "id": "skJ5DfpNuWgg"
      }
    },
    {
      "cell_type": "code",
      "source": [
        "# Creating the facetgrid. \n",
        "graph = sns.FacetGrid(covid_1 , hue= 'Corona', height= 4, aspect= 1)\n",
        "# Mapping the attributes with facetgrid\n",
        "graph.map(sns.countplot,'Headache').add_legend()\n",
        "# Adding title\n",
        "graph.fig.suptitle('Bar plot for variable Headache')\n",
        "graph.fig.subplots_adjust(top= 0.8)"
      ],
      "metadata": {
        "colab": {
          "base_uri": "https://localhost:8080/",
          "height": 357
        },
        "id": "RUeeZvf0pUVJ",
        "outputId": "f4750da1-d966-445f-a3fa-b34efa3b858b"
      },
      "execution_count": 81,
      "outputs": [
        {
          "output_type": "stream",
          "name": "stderr",
          "text": [
            "/usr/local/lib/python3.9/dist-packages/seaborn/axisgrid.py:712: UserWarning: Using the countplot function without specifying `order` is likely to produce an incorrect plot.\n",
            "  warnings.warn(warning)\n"
          ]
        },
        {
          "output_type": "display_data",
          "data": {
            "text/plain": [
              "<Figure size 368.875x288 with 1 Axes>"
            ],
            "image/png": "[encoded data removed]"
          },
          "metadata": {
            "needs_background": "light"
          }
        }
      ]
    },
    {
      "cell_type": "code",
      "source": [
        "# Examining the count \n",
        "pd.crosstab(covid_1['Corona'], covid_1['Headache'])"
      ],
      "metadata": {
        "colab": {
          "base_uri": "https://localhost:8080/",
          "height": 143
        },
        "id": "nWYIQlFNpUR0",
        "outputId": "f7050319-4f19-40b6-c7da-3d281c72ea85"
      },
      "execution_count": 82,
      "outputs": [
        {
          "output_type": "execute_result",
          "data": {
            "text/plain": [
              "Headache   False  True\n",
              "Corona                \n",
              "Negative  242038    98\n",
              "Positive   11527  2005"
            ],
            "text/html": [
              "\n",
              "  <div id=\"df-d2036997-d383-4ff1-b0b2-8527a3e7ca9d\">\n",
              "    <div class=\"colab-df-container\">\n",
              "      <div>\n",
              "<style scoped>\n",
              "    .dataframe tbody tr th:only-of-type {\n",
              "        vertical-align: middle;\n",
              "    }\n",
              "\n",
              "    .dataframe tbody tr th {\n",
              "        vertical-align: top;\n",
              "    }\n",
              "\n",
              "    .dataframe thead th {\n",
              "        text-align: right;\n",
              "    }\n",
              "</style>\n",
              "<table border=\"1\" class=\"dataframe\">\n",
              "  <thead>\n",
              "    <tr style=\"text-align: right;\">\n",
              "      <th>Headache</th>\n",
              "      <th>False</th>\n",
              "      <th>True</th>\n",
              "    </tr>\n",
              "    <tr>\n",
              "      <th>Corona</th>\n",
              "      <th></th>\n",
              "      <th></th>\n",
              "    </tr>\n",
              "  </thead>\n",
              "  <tbody>\n",
              "    <tr>\n",
              "      <th>Negative</th>\n",
              "      <td>242038</td>\n",
              "      <td>98</td>\n",
              "    </tr>\n",
              "    <tr>\n",
              "      <th>Positive</th>\n",
              "      <td>11527</td>\n",
              "      <td>2005</td>\n",
              "    </tr>\n",
              "  </tbody>\n",
              "</table>\n",
              "</div>\n",
              "      <button class=\"colab-df-convert\" onclick=\"convertToInteractive('df-d2036997-d383-4ff1-b0b2-8527a3e7ca9d')\"\n",
              "              title=\"Convert this dataframe to an interactive table.\"\n",
              "              style=\"display:none;\">\n",
              "        \n",
              "  <svg xmlns=\"http://www.w3.org/2000/svg\" height=\"24px\"viewBox=\"0 0 24 24\"\n",
              "       width=\"24px\">\n",
              "    <path d=\"M0 0h24v24H0V0z\" fill=\"none\"/>\n",
              "    <path d=\"M18.56 5.44l.94 2.06.94-2.06 2.06-.94-2.06-.94-.94-2.06-.94 2.06-2.06.94zm-11 1L8.5 8.5l.94-2.06 2.06-.94-2.06-.94L8.5 2.5l-.94 2.06-2.06.94zm10 10l.94 2.06.94-2.06 2.06-.94-2.06-.94-.94-2.06-.94 2.06-2.06.94z\"/><path d=\"M17.41 7.96l-1.37-1.37c-.4-.4-.92-.59-1.43-.59-.52 0-1.04.2-1.43.59L10.3 9.45l-7.72 7.72c-.78.78-.78 2.05 0 2.83L4 21.41c.39.39.9.59 1.41.59.51 0 1.02-.2 1.41-.59l7.78-7.78 2.81-2.81c.8-.78.8-2.07 0-2.86zM5.41 20L4 18.59l7.72-7.72 1.47 1.35L5.41 20z\"/>\n",
              "  </svg>\n",
              "      </button>\n",
              "      \n",
              "  <style>\n",
              "    .colab-df-container {\n",
              "      display:flex;\n",
              "      flex-wrap:wrap;\n",
              "      gap: 12px;\n",
              "    }\n",
              "\n",
              "    .colab-df-convert {\n",
              "      background-color: #E8F0FE;\n",
              "      border: none;\n",
              "      border-radius: 50%;\n",
              "      cursor: pointer;\n",
              "      display: none;\n",
              "      fill: #1967D2;\n",
              "      height: 32px;\n",
              "      padding: 0 0 0 0;\n",
              "      width: 32px;\n",
              "    }\n",
              "\n",
              "    .colab-df-convert:hover {\n",
              "      background-color: #E2EBFA;\n",
              "      box-shadow: 0px 1px 2px rgba(60, 64, 67, 0.3), 0px 1px 3px 1px rgba(60, 64, 67, 0.15);\n",
              "      fill: #174EA6;\n",
              "    }\n",
              "\n",
              "    [theme=dark] .colab-df-convert {\n",
              "      background-color: #3B4455;\n",
              "      fill: #D2E3FC;\n",
              "    }\n",
              "\n",
              "    [theme=dark] .colab-df-convert:hover {\n",
              "      background-color: #434B5C;\n",
              "      box-shadow: 0px 1px 3px 1px rgba(0, 0, 0, 0.15);\n",
              "      filter: drop-shadow(0px 1px 2px rgba(0, 0, 0, 0.3));\n",
              "      fill: #FFFFFF;\n",
              "    }\n",
              "  </style>\n",
              "\n",
              "      <script>\n",
              "        const buttonEl =\n",
              "          document.querySelector('#df-d2036997-d383-4ff1-b0b2-8527a3e7ca9d button.colab-df-convert');\n",
              "        buttonEl.style.display =\n",
              "          google.colab.kernel.accessAllowed ? 'block' : 'none';\n",
              "\n",
              "        async function convertToInteractive(key) {\n",
              "          const element = document.querySelector('#df-d2036997-d383-4ff1-b0b2-8527a3e7ca9d');\n",
              "          const dataTable =\n",
              "            await google.colab.kernel.invokeFunction('convertToInteractive',\n",
              "                                                     [key], {});\n",
              "          if (!dataTable) return;\n",
              "\n",
              "          const docLinkHtml = 'Like what you see? Visit the ' +\n",
              "            '<a target=\"_blank\" href=https://colab.research.google.com/notebooks/data_table.ipynb>data table notebook</a>'\n",
              "            + ' to learn more about interactive tables.';\n",
              "          element.innerHTML = '';\n",
              "          dataTable['output_type'] = 'display_data';\n",
              "          await google.colab.output.renderOutput(dataTable, element);\n",
              "          const docLink = document.createElement('div');\n",
              "          docLink.innerHTML = docLinkHtml;\n",
              "          element.appendChild(docLink);\n",
              "        }\n",
              "      </script>\n",
              "    </div>\n",
              "  </div>\n",
              "  "
            ]
          },
          "metadata": {},
          "execution_count": 82
        }
      ]
    },
    {
      "cell_type": "markdown",
      "source": [
        "**Obs:** Suffering with Headache is also an important parameter to find the covid positive patients. "
      ],
      "metadata": {
        "id": "MExXru7g0BhV"
      }
    },
    {
      "cell_type": "code",
      "source": [
        "# Creating the facetgrid. \n",
        "graph = sns.FacetGrid(covid_1 , hue= 'Fever', height= 4, aspect= 1)\n",
        "# Mapping the attributes with facetgrid\n",
        "graph.map(sns.countplot,'Corona', order= ['Negative', 'Positive']).add_legend()\n",
        "# Adding title\n",
        "graph.fig.suptitle('Bar plot for target variable Corona')\n",
        "graph.fig.subplots_adjust(top= 0.8)"
      ],
      "metadata": {
        "colab": {
          "base_uri": "https://localhost:8080/",
          "height": 302
        },
        "id": "0QMlaJak1PSD",
        "outputId": "f8bd5573-bced-491d-ccfe-4fa225df33c0"
      },
      "execution_count": 83,
      "outputs": [
        {
          "output_type": "display_data",
          "data": {
            "text/plain": [
              "<Figure size 349.25x288 with 1 Axes>"
            ],
            "image/png": "[encoded data removed]"
          },
          "metadata": {
            "needs_background": "light"
          }
        }
      ]
    },
    {
      "cell_type": "code",
      "source": [
        "# Examining the count \n",
        "pd.crosstab(covid_1['Corona'], covid_1['Fever'])"
      ],
      "metadata": {
        "colab": {
          "base_uri": "https://localhost:8080/",
          "height": 143
        },
        "id": "YoeGU4de4na0",
        "outputId": "30537b05-0cec-4b62-9d43-fc80b9205ec0"
      },
      "execution_count": 84,
      "outputs": [
        {
          "output_type": "execute_result",
          "data": {
            "text/plain": [
              "Fever      False   True\n",
              "Corona                 \n",
              "Negative  227322  14814\n",
              "Positive    8492   5040"
            ],
            "text/html": [
              "\n",
              "  <div id=\"df-54053742-50e4-4f77-b5e3-ec8bf3587f89\">\n",
              "    <div class=\"colab-df-container\">\n",
              "      <div>\n",
              "<style scoped>\n",
              "    .dataframe tbody tr th:only-of-type {\n",
              "        vertical-align: middle;\n",
              "    }\n",
              "\n",
              "    .dataframe tbody tr th {\n",
              "        vertical-align: top;\n",
              "    }\n",
              "\n",
              "    .dataframe thead th {\n",
              "        text-align: right;\n",
              "    }\n",
              "</style>\n",
              "<table border=\"1\" class=\"dataframe\">\n",
              "  <thead>\n",
              "    <tr style=\"text-align: right;\">\n",
              "      <th>Fever</th>\n",
              "      <th>False</th>\n",
              "      <th>True</th>\n",
              "    </tr>\n",
              "    <tr>\n",
              "      <th>Corona</th>\n",
              "      <th></th>\n",
              "      <th></th>\n",
              "    </tr>\n",
              "  </thead>\n",
              "  <tbody>\n",
              "    <tr>\n",
              "      <th>Negative</th>\n",
              "      <td>227322</td>\n",
              "      <td>14814</td>\n",
              "    </tr>\n",
              "    <tr>\n",
              "      <th>Positive</th>\n",
              "      <td>8492</td>\n",
              "      <td>5040</td>\n",
              "    </tr>\n",
              "  </tbody>\n",
              "</table>\n",
              "</div>\n",
              "      <button class=\"colab-df-convert\" onclick=\"convertToInteractive('df-54053742-50e4-4f77-b5e3-ec8bf3587f89')\"\n",
              "              title=\"Convert this dataframe to an interactive table.\"\n",
              "              style=\"display:none;\">\n",
              "        \n",
              "  <svg xmlns=\"http://www.w3.org/2000/svg\" height=\"24px\"viewBox=\"0 0 24 24\"\n",
              "       width=\"24px\">\n",
              "    <path d=\"M0 0h24v24H0V0z\" fill=\"none\"/>\n",
              "    <path d=\"M18.56 5.44l.94 2.06.94-2.06 2.06-.94-2.06-.94-.94-2.06-.94 2.06-2.06.94zm-11 1L8.5 8.5l.94-2.06 2.06-.94-2.06-.94L8.5 2.5l-.94 2.06-2.06.94zm10 10l.94 2.06.94-2.06 2.06-.94-2.06-.94-.94-2.06-.94 2.06-2.06.94z\"/><path d=\"M17.41 7.96l-1.37-1.37c-.4-.4-.92-.59-1.43-.59-.52 0-1.04.2-1.43.59L10.3 9.45l-7.72 7.72c-.78.78-.78 2.05 0 2.83L4 21.41c.39.39.9.59 1.41.59.51 0 1.02-.2 1.41-.59l7.78-7.78 2.81-2.81c.8-.78.8-2.07 0-2.86zM5.41 20L4 18.59l7.72-7.72 1.47 1.35L5.41 20z\"/>\n",
              "  </svg>\n",
              "      </button>\n",
              "      \n",
              "  <style>\n",
              "    .colab-df-container {\n",
              "      display:flex;\n",
              "      flex-wrap:wrap;\n",
              "      gap: 12px;\n",
              "    }\n",
              "\n",
              "    .colab-df-convert {\n",
              "      background-color: #E8F0FE;\n",
              "      border: none;\n",
              "      border-radius: 50%;\n",
              "      cursor: pointer;\n",
              "      display: none;\n",
              "      fill: #1967D2;\n",
              "      height: 32px;\n",
              "      padding: 0 0 0 0;\n",
              "      width: 32px;\n",
              "    }\n",
              "\n",
              "    .colab-df-convert:hover {\n",
              "      background-color: #E2EBFA;\n",
              "      box-shadow: 0px 1px 2px rgba(60, 64, 67, 0.3), 0px 1px 3px 1px rgba(60, 64, 67, 0.15);\n",
              "      fill: #174EA6;\n",
              "    }\n",
              "\n",
              "    [theme=dark] .colab-df-convert {\n",
              "      background-color: #3B4455;\n",
              "      fill: #D2E3FC;\n",
              "    }\n",
              "\n",
              "    [theme=dark] .colab-df-convert:hover {\n",
              "      background-color: #434B5C;\n",
              "      box-shadow: 0px 1px 3px 1px rgba(0, 0, 0, 0.15);\n",
              "      filter: drop-shadow(0px 1px 2px rgba(0, 0, 0, 0.3));\n",
              "      fill: #FFFFFF;\n",
              "    }\n",
              "  </style>\n",
              "\n",
              "      <script>\n",
              "        const buttonEl =\n",
              "          document.querySelector('#df-54053742-50e4-4f77-b5e3-ec8bf3587f89 button.colab-df-convert');\n",
              "        buttonEl.style.display =\n",
              "          google.colab.kernel.accessAllowed ? 'block' : 'none';\n",
              "\n",
              "        async function convertToInteractive(key) {\n",
              "          const element = document.querySelector('#df-54053742-50e4-4f77-b5e3-ec8bf3587f89');\n",
              "          const dataTable =\n",
              "            await google.colab.kernel.invokeFunction('convertToInteractive',\n",
              "                                                     [key], {});\n",
              "          if (!dataTable) return;\n",
              "\n",
              "          const docLinkHtml = 'Like what you see? Visit the ' +\n",
              "            '<a target=\"_blank\" href=https://colab.research.google.com/notebooks/data_table.ipynb>data table notebook</a>'\n",
              "            + ' to learn more about interactive tables.';\n",
              "          element.innerHTML = '';\n",
              "          dataTable['output_type'] = 'display_data';\n",
              "          await google.colab.output.renderOutput(dataTable, element);\n",
              "          const docLink = document.createElement('div');\n",
              "          docLink.innerHTML = docLinkHtml;\n",
              "          element.appendChild(docLink);\n",
              "        }\n",
              "      </script>\n",
              "    </div>\n",
              "  </div>\n",
              "  "
            ]
          },
          "metadata": {},
          "execution_count": 84
        }
      ]
    },
    {
      "cell_type": "markdown",
      "source": [
        "##### EDA Conclusion:\n",
        "1) The dataset is an unbalanced dataset with few cases as positive for target variable(Corona).\n",
        "\n",
        "2) If a person is in contact with an infected person, then there is more chance of found to be positive in the test.\n",
        "\n",
        "3) Cough_symptoms, fever, Headache are found to be more prevalent in covid positive people.\n",
        " \n",
        "4) People with symptoms like sore throat, shortness of breath have higher chances of found to be covid positive.\n",
        "\n",
        "5) People with fever, cough along with other symptoms are more likely to be found positive."
      ],
      "metadata": {
        "id": "ynO-5UYWCICn"
      }
    },
    {
      "cell_type": "markdown",
      "source": [
        "### Splitting the data based on the dates."
      ],
      "metadata": {
        "id": "yCo1I9XwGHpY"
      }
    },
    {
      "cell_type": "code",
      "source": [
        "# splitting the data to train and test set based on date.\n",
        "#greater than the start date and smaller than the end date\n",
        "\n",
        "# Considering data from march 11 to april 15 as training set.\n",
        "mask1 = (covid_1['Test_date'] >= '2020-3-11') & (covid_1['Test_date'] <= '2020-4-15')\n",
        "covid_train = covid_1.loc[mask1]\n",
        "\n",
        "# Considering data from april 16 to april 30 as test set\n",
        "mask2 = (covid_1['Test_date'] >= '2020-4-16') & (covid_1['Test_date'] <= '2020-4-30')\n",
        "covid_test = covid_1.loc[mask2]"
      ],
      "metadata": {
        "id": "WmseDCl1dxNr"
      },
      "execution_count": 85,
      "outputs": []
    },
    {
      "cell_type": "code",
      "source": [
        "# dropping the date column \n",
        "covid_train.drop('Test_date', axis= 1, inplace= True)\n",
        "covid_test.drop('Test_date', axis= 1, inplace= True)"
      ],
      "metadata": {
        "id": "t3QtY_6C-JO5",
        "colab": {
          "base_uri": "https://localhost:8080/"
        },
        "outputId": "e2e69c53-6b05-482d-d3a0-89b22048a0f2"
      },
      "execution_count": 86,
      "outputs": [
        {
          "output_type": "stream",
          "name": "stderr",
          "text": [
            "<ipython-input-86-e2777dfc6e80>:2: SettingWithCopyWarning: \n",
            "A value is trying to be set on a copy of a slice from a DataFrame\n",
            "\n",
            "See the caveats in the documentation: https://pandas.pydata.org/pandas-docs/stable/user_guide/indexing.html#returning-a-view-versus-a-copy\n",
            "  covid_train.drop('Test_date', axis= 1, inplace= True)\n",
            "<ipython-input-86-e2777dfc6e80>:3: SettingWithCopyWarning: \n",
            "A value is trying to be set on a copy of a slice from a DataFrame\n",
            "\n",
            "See the caveats in the documentation: https://pandas.pydata.org/pandas-docs/stable/user_guide/indexing.html#returning-a-view-versus-a-copy\n",
            "  covid_test.drop('Test_date', axis= 1, inplace= True)\n"
          ]
        }
      ]
    },
    {
      "cell_type": "markdown",
      "source": [
        "### Feature Encoding"
      ],
      "metadata": {
        "id": "wnHPkvqsmm8W"
      }
    },
    {
      "cell_type": "code",
      "source": [
        "# Encoding the categorical variables \n",
        "covid_train_1 = pd.get_dummies(covid_train, drop_first= True)\n",
        "covid_test_1 = pd.get_dummies(covid_test, drop_first= True)"
      ],
      "metadata": {
        "id": "AIRLQVOKHHdP"
      },
      "execution_count": 87,
      "outputs": []
    },
    {
      "cell_type": "code",
      "source": [
        "# Splitting the dataset and removing target\n",
        "X_train = covid_train_1.drop('Corona_Positive', axis= 1)\n",
        "y_train = covid_train_1['Corona_Positive']\n",
        "\n",
        "\n",
        "X_test = covid_test_1.drop('Corona_Positive', axis= 1)\n",
        "y_test = covid_test_1['Corona_Positive']"
      ],
      "metadata": {
        "id": "lwGhx9TnGSi7"
      },
      "execution_count": 88,
      "outputs": []
    },
    {
      "cell_type": "code",
      "source": [
        "# X for features and y for target\n",
        "X = pd.concat([X_train, X_test])\n",
        "y = pd.concat([y_train, y_test])"
      ],
      "metadata": {
        "id": "Y_GrpF7Tl9-r"
      },
      "execution_count": 89,
      "outputs": []
    },
    {
      "cell_type": "markdown",
      "source": [
        "### Feature selection"
      ],
      "metadata": {
        "id": "Ci5LYuOmqroV"
      }
    },
    {
      "cell_type": "markdown",
      "source": [
        "#### 1) Filter method:"
      ],
      "metadata": {
        "id": "CezflLLXf7hg"
      }
    },
    {
      "cell_type": "code",
      "source": [
        "from scipy.stats import chi2_contingency\n",
        "\n",
        "# list of categorical variables\n",
        "l = covid_1.drop(['Test_date', 'Corona'], axis = 1).columns\n",
        "\n",
        "p = pd.DataFrame(index= l)\n",
        "ch = pd.DataFrame( index= l)\n",
        "\n",
        "for i in l:\n",
        "      ct_table_ind = pd.crosstab( covid_1[i], covid_1['Corona'])\n",
        "      chi2_stat, p_val, dof, expected = chi2_contingency(ct_table_ind)\n",
        "      p.loc[i,0] = p_val\n",
        "      ch.loc[i,0] = chi2_stat "
      ],
      "metadata": {
        "id": "mIQneXyjmR2H"
      },
      "execution_count": 90,
      "outputs": []
    },
    {
      "cell_type": "code",
      "source": [
        "pd.DataFrame({ \"Score\" : ch.loc[:,0], \"p value\": p.loc[:,0] } )"
      ],
      "metadata": {
        "colab": {
          "base_uri": "https://localhost:8080/",
          "height": 269
        },
        "id": "FgSYmmWEq0qQ",
        "outputId": "b5295041-d082-4b20-dc38-840474c05970"
      },
      "execution_count": 91,
      "outputs": [
        {
          "output_type": "execute_result",
          "data": {
            "text/plain": [
              "                            Score       p value\n",
              "Cough_symptoms        9630.427602  0.000000e+00\n",
              "Fever                17331.883615  0.000000e+00\n",
              "Sore_throat          21953.644975  0.000000e+00\n",
              "Shortness_of_breath  15779.207318  0.000000e+00\n",
              "Headache             34282.200179  0.000000e+00\n",
              "Sex                    185.607866  2.891324e-42\n",
              "Known_contact        87100.255980  0.000000e+00"
            ],
            "text/html": [
              "\n",
              "  <div id=\"df-325bef6c-497c-44af-9e33-f75592d667d3\">\n",
              "    <div class=\"colab-df-container\">\n",
              "      <div>\n",
              "<style scoped>\n",
              "    .dataframe tbody tr th:only-of-type {\n",
              "        vertical-align: middle;\n",
              "    }\n",
              "\n",
              "    .dataframe tbody tr th {\n",
              "        vertical-align: top;\n",
              "    }\n",
              "\n",
              "    .dataframe thead th {\n",
              "        text-align: right;\n",
              "    }\n",
              "</style>\n",
              "<table border=\"1\" class=\"dataframe\">\n",
              "  <thead>\n",
              "    <tr style=\"text-align: right;\">\n",
              "      <th></th>\n",
              "      <th>Score</th>\n",
              "      <th>p value</th>\n",
              "    </tr>\n",
              "  </thead>\n",
              "  <tbody>\n",
              "    <tr>\n",
              "      <th>Cough_symptoms</th>\n",
              "      <td>9630.427602</td>\n",
              "      <td>0.000000e+00</td>\n",
              "    </tr>\n",
              "    <tr>\n",
              "      <th>Fever</th>\n",
              "      <td>17331.883615</td>\n",
              "      <td>0.000000e+00</td>\n",
              "    </tr>\n",
              "    <tr>\n",
              "      <th>Sore_throat</th>\n",
              "      <td>21953.644975</td>\n",
              "      <td>0.000000e+00</td>\n",
              "    </tr>\n",
              "    <tr>\n",
              "      <th>Shortness_of_breath</th>\n",
              "      <td>15779.207318</td>\n",
              "      <td>0.000000e+00</td>\n",
              "    </tr>\n",
              "    <tr>\n",
              "      <th>Headache</th>\n",
              "      <td>34282.200179</td>\n",
              "      <td>0.000000e+00</td>\n",
              "    </tr>\n",
              "    <tr>\n",
              "      <th>Sex</th>\n",
              "      <td>185.607866</td>\n",
              "      <td>2.891324e-42</td>\n",
              "    </tr>\n",
              "    <tr>\n",
              "      <th>Known_contact</th>\n",
              "      <td>87100.255980</td>\n",
              "      <td>0.000000e+00</td>\n",
              "    </tr>\n",
              "  </tbody>\n",
              "</table>\n",
              "</div>\n",
              "      <button class=\"colab-df-convert\" onclick=\"convertToInteractive('df-325bef6c-497c-44af-9e33-f75592d667d3')\"\n",
              "              title=\"Convert this dataframe to an interactive table.\"\n",
              "              style=\"display:none;\">\n",
              "        \n",
              "  <svg xmlns=\"http://www.w3.org/2000/svg\" height=\"24px\"viewBox=\"0 0 24 24\"\n",
              "       width=\"24px\">\n",
              "    <path d=\"M0 0h24v24H0V0z\" fill=\"none\"/>\n",
              "    <path d=\"M18.56 5.44l.94 2.06.94-2.06 2.06-.94-2.06-.94-.94-2.06-.94 2.06-2.06.94zm-11 1L8.5 8.5l.94-2.06 2.06-.94-2.06-.94L8.5 2.5l-.94 2.06-2.06.94zm10 10l.94 2.06.94-2.06 2.06-.94-2.06-.94-.94-2.06-.94 2.06-2.06.94z\"/><path d=\"M17.41 7.96l-1.37-1.37c-.4-.4-.92-.59-1.43-.59-.52 0-1.04.2-1.43.59L10.3 9.45l-7.72 7.72c-.78.78-.78 2.05 0 2.83L4 21.41c.39.39.9.59 1.41.59.51 0 1.02-.2 1.41-.59l7.78-7.78 2.81-2.81c.8-.78.8-2.07 0-2.86zM5.41 20L4 18.59l7.72-7.72 1.47 1.35L5.41 20z\"/>\n",
              "  </svg>\n",
              "      </button>\n",
              "      \n",
              "  <style>\n",
              "    .colab-df-container {\n",
              "      display:flex;\n",
              "      flex-wrap:wrap;\n",
              "      gap: 12px;\n",
              "    }\n",
              "\n",
              "    .colab-df-convert {\n",
              "      background-color: #E8F0FE;\n",
              "      border: none;\n",
              "      border-radius: 50%;\n",
              "      cursor: pointer;\n",
              "      display: none;\n",
              "      fill: #1967D2;\n",
              "      height: 32px;\n",
              "      padding: 0 0 0 0;\n",
              "      width: 32px;\n",
              "    }\n",
              "\n",
              "    .colab-df-convert:hover {\n",
              "      background-color: #E2EBFA;\n",
              "      box-shadow: 0px 1px 2px rgba(60, 64, 67, 0.3), 0px 1px 3px 1px rgba(60, 64, 67, 0.15);\n",
              "      fill: #174EA6;\n",
              "    }\n",
              "\n",
              "    [theme=dark] .colab-df-convert {\n",
              "      background-color: #3B4455;\n",
              "      fill: #D2E3FC;\n",
              "    }\n",
              "\n",
              "    [theme=dark] .colab-df-convert:hover {\n",
              "      background-color: #434B5C;\n",
              "      box-shadow: 0px 1px 3px 1px rgba(0, 0, 0, 0.15);\n",
              "      filter: drop-shadow(0px 1px 2px rgba(0, 0, 0, 0.3));\n",
              "      fill: #FFFFFF;\n",
              "    }\n",
              "  </style>\n",
              "\n",
              "      <script>\n",
              "        const buttonEl =\n",
              "          document.querySelector('#df-325bef6c-497c-44af-9e33-f75592d667d3 button.colab-df-convert');\n",
              "        buttonEl.style.display =\n",
              "          google.colab.kernel.accessAllowed ? 'block' : 'none';\n",
              "\n",
              "        async function convertToInteractive(key) {\n",
              "          const element = document.querySelector('#df-325bef6c-497c-44af-9e33-f75592d667d3');\n",
              "          const dataTable =\n",
              "            await google.colab.kernel.invokeFunction('convertToInteractive',\n",
              "                                                     [key], {});\n",
              "          if (!dataTable) return;\n",
              "\n",
              "          const docLinkHtml = 'Like what you see? Visit the ' +\n",
              "            '<a target=\"_blank\" href=https://colab.research.google.com/notebooks/data_table.ipynb>data table notebook</a>'\n",
              "            + ' to learn more about interactive tables.';\n",
              "          element.innerHTML = '';\n",
              "          dataTable['output_type'] = 'display_data';\n",
              "          await google.colab.output.renderOutput(dataTable, element);\n",
              "          const docLink = document.createElement('div');\n",
              "          docLink.innerHTML = docLinkHtml;\n",
              "          element.appendChild(docLink);\n",
              "        }\n",
              "      </script>\n",
              "    </div>\n",
              "  </div>\n",
              "  "
            ]
          },
          "metadata": {},
          "execution_count": 91
        }
      ]
    },
    {
      "cell_type": "markdown",
      "source": [
        "**Obs:** Varaible like Headache, Known_contact are found to be having high score compared to others."
      ],
      "metadata": {
        "id": "HVWDD33-k6nY"
      }
    },
    {
      "cell_type": "markdown",
      "source": [
        "#### 2) Embeded Method:"
      ],
      "metadata": {
        "id": "HcLvcvezs4yg"
      }
    },
    {
      "cell_type": "code",
      "source": [
        "from sklearn.ensemble import ExtraTreesClassifier\n",
        "import matplotlib.pyplot as plt\n",
        "model = ExtraTreesClassifier()\n",
        "model.fit(X,y)\n",
        "feat_importances = pd.Series(model.feature_importances_, index=X.columns)\n",
        "feat_importances.plot(kind='barh')\n",
        "plt.show()"
      ],
      "metadata": {
        "colab": {
          "base_uri": "https://localhost:8080/",
          "height": 265
        },
        "id": "HdFkSWeTs5Vd",
        "outputId": "f0f590a6-0ec2-4067-d4dd-a6e8c7727162"
      },
      "execution_count": 92,
      "outputs": [
        {
          "output_type": "display_data",
          "data": {
            "text/plain": [
              "<Figure size 432x288 with 1 Axes>"
            ],
            "image/png": "[encoded data removed]"
          },
          "metadata": {
            "needs_background": "light"
          }
        }
      ]
    },
    {
      "cell_type": "code",
      "source": [
        "# Selecting 3 features based on results from feature selection methods. \n",
        "X_train = X_train[['Sore_throat_True', \"Headache_True\", \"Known_contact_Contact With Confirmed\", \"Known_contact_Other\"]] \n",
        "X_test = X_test[['Sore_throat_True', \"Headache_True\", \"Known_contact_Contact With Confirmed\", \"Known_contact_Other\"]] "
      ],
      "metadata": {
        "id": "d4FxIaKEF1Hc"
      },
      "execution_count": 93,
      "outputs": []
    },
    {
      "cell_type": "markdown",
      "source": [
        "## Machine Learning"
      ],
      "metadata": {
        "id": "O3zFFKXPdvFX"
      }
    },
    {
      "cell_type": "markdown",
      "source": [
        "#### 1) Support Vector Machine"
      ],
      "metadata": {
        "id": "hmIH45sDecES"
      }
    },
    {
      "cell_type": "code",
      "source": [
        "# Import svc\n",
        "from sklearn.svm import SVC\n",
        "\n",
        "# Import GridSearchCV\n",
        "from sklearn.model_selection import GridSearchCV\n",
        "  \n",
        "# defining parameter range\n",
        "param_grid = { 'kernel' : ['rbf'],  \n",
        "              'C' : [0.005, 0.01],\n",
        "              'gamma' : [0.1, 1]\n",
        "              } \n",
        "  \n",
        "grid_1 = GridSearchCV(SVC(), param_grid, scoring='f1', \n",
        "                    refit = True, verbose = 3)\n",
        "                                      #By default stratifiedKfold(5 folds is used.) \n",
        "  \n",
        "# fitting the model for grid search\n",
        "grid_1.fit(X_train, y_train)\n",
        "\n",
        "# To print best score\n",
        "print('The best score for f1 was found to be',grid_1.best_score_)"
      ],
      "metadata": {
        "id": "05WNphcvGSfu",
        "colab": {
          "base_uri": "https://localhost:8080/"
        },
        "outputId": "abeb2515-9ee9-4dc3-c53f-fa6481c563fd"
      },
      "execution_count": 94,
      "outputs": [
        {
          "output_type": "stream",
          "name": "stdout",
          "text": [
            "Fitting 5 folds for each of 4 candidates, totalling 20 fits\n",
            "[CV 1/5] END ....C=0.005, gamma=0.1, kernel=rbf;, score=0.623 total time=  33.1s\n",
            "[CV 2/5] END ....C=0.005, gamma=0.1, kernel=rbf;, score=0.561 total time=  30.9s\n",
            "[CV 3/5] END ....C=0.005, gamma=0.1, kernel=rbf;, score=0.631 total time=  32.2s\n",
            "[CV 4/5] END ....C=0.005, gamma=0.1, kernel=rbf;, score=0.634 total time=  31.2s\n",
            "[CV 5/5] END ....C=0.005, gamma=0.1, kernel=rbf;, score=0.644 total time=  31.9s\n",
            "[CV 1/5] END ......C=0.005, gamma=1, kernel=rbf;, score=0.738 total time=  23.0s\n",
            "[CV 2/5] END ......C=0.005, gamma=1, kernel=rbf;, score=0.682 total time=  20.8s\n",
            "[CV 3/5] END ......C=0.005, gamma=1, kernel=rbf;, score=0.710 total time=  22.7s\n",
            "[CV 4/5] END ......C=0.005, gamma=1, kernel=rbf;, score=0.715 total time=  23.2s\n",
            "[CV 5/5] END ......C=0.005, gamma=1, kernel=rbf;, score=0.658 total time=  22.5s\n",
            "[CV 1/5] END .....C=0.01, gamma=0.1, kernel=rbf;, score=0.623 total time=  28.2s\n",
            "[CV 2/5] END .....C=0.01, gamma=0.1, kernel=rbf;, score=0.585 total time=  27.5s\n",
            "[CV 3/5] END .....C=0.01, gamma=0.1, kernel=rbf;, score=0.631 total time=  27.2s\n",
            "[CV 4/5] END .....C=0.01, gamma=0.1, kernel=rbf;, score=0.634 total time=  28.2s\n",
            "[CV 5/5] END .....C=0.01, gamma=0.1, kernel=rbf;, score=0.652 total time=  26.5s\n",
            "[CV 1/5] END .......C=0.01, gamma=1, kernel=rbf;, score=0.738 total time=  20.3s\n",
            "[CV 2/5] END .......C=0.01, gamma=1, kernel=rbf;, score=0.682 total time=  18.6s\n",
            "[CV 3/5] END .......C=0.01, gamma=1, kernel=rbf;, score=0.710 total time=  20.0s\n",
            "[CV 4/5] END .......C=0.01, gamma=1, kernel=rbf;, score=0.715 total time=  20.4s\n",
            "[CV 5/5] END .......C=0.01, gamma=1, kernel=rbf;, score=0.658 total time=  18.7s\n",
            "The best score for f1 was found to be 0.7004586971131344\n"
          ]
        }
      ]
    },
    {
      "cell_type": "code",
      "source": [
        "#print best parameter after tuning\n",
        "print(grid_1.best_params_)\n",
        "\n",
        "# print how our model looks after hyper-parameter tuning and it's score\n",
        "print(grid_1.best_estimator_, 'The best f1 score found to be %.3f' % grid_1.best_score_)\n",
        "\n",
        "# Make prediction on Training data\n",
        "y_train_pred_svm = grid_1.predict(X_train)\n",
        "\n",
        "# Checking predictions on the test set \n",
        "y_test_pred_svm = grid_1.predict(X_test)"
      ],
      "metadata": {
        "colab": {
          "base_uri": "https://localhost:8080/"
        },
        "id": "AVMOPRWp97AE",
        "outputId": "d314abc3-91bd-4556-f338-bc1a6efbfbac"
      },
      "execution_count": 95,
      "outputs": [
        {
          "output_type": "stream",
          "name": "stdout",
          "text": [
            "{'C': 0.005, 'gamma': 1, 'kernel': 'rbf'}\n",
            "SVC(C=0.005, gamma=1) The best f1 score found to be 0.700\n"
          ]
        }
      ]
    },
    {
      "cell_type": "code",
      "source": [
        "# Confusion matrix of test set\n",
        "from sklearn.metrics import confusion_matrix, ConfusionMatrixDisplay\n",
        "cm = confusion_matrix(y_test, y_test_pred_svm, labels= grid_1.classes_)\n",
        "disp = ConfusionMatrixDisplay(confusion_matrix=cm,\n",
        "                              display_labels= grid_1.classes_)\n",
        "disp.plot()\n",
        "plt.show()"
      ],
      "metadata": {
        "colab": {
          "base_uri": "https://localhost:8080/",
          "height": 279
        },
        "id": "UByRB3pMODlD",
        "outputId": "bcffee76-33a6-497e-dcff-c88acf338932"
      },
      "execution_count": 96,
      "outputs": [
        {
          "output_type": "display_data",
          "data": {
            "text/plain": [
              "<Figure size 432x288 with 2 Axes>"
            ],
            "image/png": "[encoded data removed]"
          },
          "metadata": {
            "needs_background": "light"
          }
        }
      ]
    },
    {
      "cell_type": "code",
      "source": [
        "# classification report on test set\n",
        "from sklearn.metrics import classification_report, confusion_matrix\n",
        "print(classification_report(y_test, y_test_pred_svm))"
      ],
      "metadata": {
        "colab": {
          "base_uri": "https://localhost:8080/"
        },
        "id": "RTFKI2Z7AmCw",
        "outputId": "60834aa3-d8af-44f3-f433-40c06f340681"
      },
      "execution_count": 97,
      "outputs": [
        {
          "output_type": "stream",
          "name": "stdout",
          "text": [
            "              precision    recall  f1-score   support\n",
            "\n",
            "           0       0.99      1.00      0.99    109716\n",
            "           1       0.76      0.57      0.65      2647\n",
            "\n",
            "    accuracy                           0.99    112363\n",
            "   macro avg       0.87      0.78      0.82    112363\n",
            "weighted avg       0.98      0.99      0.98    112363\n",
            "\n"
          ]
        }
      ]
    },
    {
      "cell_type": "markdown",
      "source": [
        "### 2) Random forest "
      ],
      "metadata": {
        "id": "w0WlIBsRBEQ6"
      }
    },
    {
      "cell_type": "code",
      "source": [
        "# Import RandomForest\n",
        "from sklearn.ensemble import RandomForestClassifier\n",
        "\n",
        "# Import GridSearchCV\n",
        "from sklearn.model_selection import GridSearchCV\n",
        "  \n",
        "# defining parameter range\n",
        "param_grid = {'criterion': ['gini','entropy'], \n",
        "              'n_estimators': [40, 45],\n",
        "              'max_depth': [3, 4],\n",
        "              'bootstrap' : [True],\n",
        "              'oob_score' : [True] } \n",
        "  \n",
        "grid_2 = GridSearchCV(RandomForestClassifier(), param_grid, scoring='f1',\n",
        "                    refit = True, verbose = 3)\n",
        "  \n",
        "# fitting the model for grid search\n",
        "grid_2.fit(X_train, y_train)\n",
        "\n",
        "# To print best score\n",
        "print('The best score for f1 was found to be',grid_2.best_score_)"
      ],
      "metadata": {
        "colab": {
          "base_uri": "https://localhost:8080/"
        },
        "id": "L2P8OhHXAl-l",
        "outputId": "8d5da797-1a10-40d1-c6dd-9f04077f9838"
      },
      "execution_count": 98,
      "outputs": [
        {
          "output_type": "stream",
          "name": "stdout",
          "text": [
            "Fitting 5 folds for each of 8 candidates, totalling 40 fits\n",
            "[CV 1/5] END bootstrap=True, criterion=gini, max_depth=3, n_estimators=40, oob_score=True;, score=0.738 total time=   0.6s\n",
            "[CV 2/5] END bootstrap=True, criterion=gini, max_depth=3, n_estimators=40, oob_score=True;, score=0.682 total time=   0.6s\n",
            "[CV 3/5] END bootstrap=True, criterion=gini, max_depth=3, n_estimators=40, oob_score=True;, score=0.710 total time=   0.6s\n",
            "[CV 4/5] END bootstrap=True, criterion=gini, max_depth=3, n_estimators=40, oob_score=True;, score=0.712 total time=   0.6s\n",
            "[CV 5/5] END bootstrap=True, criterion=gini, max_depth=3, n_estimators=40, oob_score=True;, score=0.658 total time=   0.6s\n",
            "[CV 1/5] END bootstrap=True, criterion=gini, max_depth=3, n_estimators=45, oob_score=True;, score=0.738 total time=   0.7s\n",
            "[CV 2/5] END bootstrap=True, criterion=gini, max_depth=3, n_estimators=45, oob_score=True;, score=0.682 total time=   0.7s\n",
            "[CV 3/5] END bootstrap=True, criterion=gini, max_depth=3, n_estimators=45, oob_score=True;, score=0.700 total time=   0.7s\n",
            "[CV 4/5] END bootstrap=True, criterion=gini, max_depth=3, n_estimators=45, oob_score=True;, score=0.712 total time=   0.9s\n",
            "[CV 5/5] END bootstrap=True, criterion=gini, max_depth=3, n_estimators=45, oob_score=True;, score=0.658 total time=   1.1s\n",
            "[CV 1/5] END bootstrap=True, criterion=gini, max_depth=4, n_estimators=40, oob_score=True;, score=0.738 total time=   1.0s\n",
            "[CV 2/5] END bootstrap=True, criterion=gini, max_depth=4, n_estimators=40, oob_score=True;, score=0.682 total time=   0.7s\n",
            "[CV 3/5] END bootstrap=True, criterion=gini, max_depth=4, n_estimators=40, oob_score=True;, score=0.710 total time=   0.6s\n",
            "[CV 4/5] END bootstrap=True, criterion=gini, max_depth=4, n_estimators=40, oob_score=True;, score=0.715 total time=   0.6s\n",
            "[CV 5/5] END bootstrap=True, criterion=gini, max_depth=4, n_estimators=40, oob_score=True;, score=0.658 total time=   0.6s\n",
            "[CV 1/5] END bootstrap=True, criterion=gini, max_depth=4, n_estimators=45, oob_score=True;, score=0.738 total time=   0.7s\n",
            "[CV 2/5] END bootstrap=True, criterion=gini, max_depth=4, n_estimators=45, oob_score=True;, score=0.682 total time=   0.7s\n",
            "[CV 3/5] END bootstrap=True, criterion=gini, max_depth=4, n_estimators=45, oob_score=True;, score=0.710 total time=   0.7s\n",
            "[CV 4/5] END bootstrap=True, criterion=gini, max_depth=4, n_estimators=45, oob_score=True;, score=0.715 total time=   0.7s\n",
            "[CV 5/5] END bootstrap=True, criterion=gini, max_depth=4, n_estimators=45, oob_score=True;, score=0.658 total time=   0.7s\n",
            "[CV 1/5] END bootstrap=True, criterion=entropy, max_depth=3, n_estimators=40, oob_score=True;, score=0.738 total time=   0.6s\n",
            "[CV 2/5] END bootstrap=True, criterion=entropy, max_depth=3, n_estimators=40, oob_score=True;, score=0.670 total time=   0.6s\n",
            "[CV 3/5] END bootstrap=True, criterion=entropy, max_depth=3, n_estimators=40, oob_score=True;, score=0.710 total time=   0.6s\n",
            "[CV 4/5] END bootstrap=True, criterion=entropy, max_depth=3, n_estimators=40, oob_score=True;, score=0.715 total time=   0.6s\n",
            "[CV 5/5] END bootstrap=True, criterion=entropy, max_depth=3, n_estimators=40, oob_score=True;, score=0.658 total time=   1.3s\n",
            "[CV 1/5] END bootstrap=True, criterion=entropy, max_depth=3, n_estimators=45, oob_score=True;, score=0.738 total time=   2.2s\n",
            "[CV 2/5] END bootstrap=True, criterion=entropy, max_depth=3, n_estimators=45, oob_score=True;, score=0.670 total time=   1.0s\n",
            "[CV 3/5] END bootstrap=True, criterion=entropy, max_depth=3, n_estimators=45, oob_score=True;, score=0.700 total time=   0.7s\n",
            "[CV 4/5] END bootstrap=True, criterion=entropy, max_depth=3, n_estimators=45, oob_score=True;, score=0.715 total time=   0.7s\n",
            "[CV 5/5] END bootstrap=True, criterion=entropy, max_depth=3, n_estimators=45, oob_score=True;, score=0.658 total time=   0.7s\n",
            "[CV 1/5] END bootstrap=True, criterion=entropy, max_depth=4, n_estimators=40, oob_score=True;, score=0.738 total time=   0.7s\n",
            "[CV 2/5] END bootstrap=True, criterion=entropy, max_depth=4, n_estimators=40, oob_score=True;, score=0.682 total time=   0.7s\n",
            "[CV 3/5] END bootstrap=True, criterion=entropy, max_depth=4, n_estimators=40, oob_score=True;, score=0.710 total time=   0.6s\n",
            "[CV 4/5] END bootstrap=True, criterion=entropy, max_depth=4, n_estimators=40, oob_score=True;, score=0.715 total time=   0.6s\n",
            "[CV 5/5] END bootstrap=True, criterion=entropy, max_depth=4, n_estimators=40, oob_score=True;, score=0.658 total time=   0.6s\n",
            "[CV 1/5] END bootstrap=True, criterion=entropy, max_depth=4, n_estimators=45, oob_score=True;, score=0.738 total time=   0.7s\n",
            "[CV 2/5] END bootstrap=True, criterion=entropy, max_depth=4, n_estimators=45, oob_score=True;, score=0.682 total time=   0.7s\n",
            "[CV 3/5] END bootstrap=True, criterion=entropy, max_depth=4, n_estimators=45, oob_score=True;, score=0.710 total time=   0.7s\n",
            "[CV 4/5] END bootstrap=True, criterion=entropy, max_depth=4, n_estimators=45, oob_score=True;, score=0.715 total time=   0.7s\n",
            "[CV 5/5] END bootstrap=True, criterion=entropy, max_depth=4, n_estimators=45, oob_score=True;, score=0.658 total time=   0.7s\n",
            "The best score for f1 was found to be 0.7004586971131344\n"
          ]
        }
      ]
    },
    {
      "cell_type": "code",
      "source": [
        "#print best parameter after tuning\n",
        "print(grid_2.best_params_)\n",
        "\n",
        "# print how our model looks after hyper-parameter tuning\n",
        "print(grid_2.best_estimator_,'The best f1 score found to be %.3f' % grid_1.best_score_)\n",
        "\n",
        "\n",
        "# Checking predictons on training set\n",
        "y_train_pred_rf = grid_2.predict(X_train) \n",
        "\n",
        "# Checking predictions on the test set \n",
        "y_test_pred_rf = grid_2.predict(X_test)"
      ],
      "metadata": {
        "colab": {
          "base_uri": "https://localhost:8080/"
        },
        "id": "v5FR3DPDAl5I",
        "outputId": "5f7a5e07-78e7-43fb-bdf9-392188859866"
      },
      "execution_count": 99,
      "outputs": [
        {
          "output_type": "stream",
          "name": "stdout",
          "text": [
            "{'bootstrap': True, 'criterion': 'gini', 'max_depth': 4, 'n_estimators': 40, 'oob_score': True}\n",
            "RandomForestClassifier(max_depth=4, n_estimators=40, oob_score=True) The best f1 score found to be 0.700\n"
          ]
        }
      ]
    },
    {
      "cell_type": "code",
      "source": [
        "# Confusion matrix of test set\n",
        "from sklearn.metrics import confusion_matrix, ConfusionMatrixDisplay\n",
        "cm = confusion_matrix(y_test, y_test_pred_rf, labels= grid_1.classes_)\n",
        "disp = ConfusionMatrixDisplay(confusion_matrix=cm,\n",
        "                              display_labels= grid_1.classes_)\n",
        "disp.plot()\n",
        "plt.show()"
      ],
      "metadata": {
        "colab": {
          "base_uri": "https://localhost:8080/",
          "height": 279
        },
        "id": "tBe8u39nV6ja",
        "outputId": "29f52c1f-b2a7-4274-f690-3c502bec4c5d"
      },
      "execution_count": 100,
      "outputs": [
        {
          "output_type": "display_data",
          "data": {
            "text/plain": [
              "<Figure size 432x288 with 2 Axes>"
            ],
            "image/png": "[encoded data removed]"
          },
          "metadata": {
            "needs_background": "light"
          }
        }
      ]
    },
    {
      "cell_type": "code",
      "source": [
        "# print classification report\n",
        "from sklearn.metrics import classification_report, confusion_matrix\n",
        "print(classification_report(y_test, y_test_pred_rf))"
      ],
      "metadata": {
        "colab": {
          "base_uri": "https://localhost:8080/"
        },
        "id": "D2u_IU9AL6-K",
        "outputId": "23640ff0-68f5-410e-b6c2-39367a4318f1"
      },
      "execution_count": 101,
      "outputs": [
        {
          "output_type": "stream",
          "name": "stdout",
          "text": [
            "              precision    recall  f1-score   support\n",
            "\n",
            "           0       0.99      1.00      0.99    109716\n",
            "           1       0.76      0.57      0.65      2647\n",
            "\n",
            "    accuracy                           0.99    112363\n",
            "   macro avg       0.87      0.78      0.82    112363\n",
            "weighted avg       0.98      0.99      0.98    112363\n",
            "\n"
          ]
        }
      ]
    },
    {
      "cell_type": "markdown",
      "source": [
        "### 3) Logistic regression"
      ],
      "metadata": {
        "id": "-MZt8Y2rDBZO"
      }
    },
    {
      "cell_type": "code",
      "source": [
        "# Import logistic regression\n",
        "from sklearn.linear_model import LogisticRegression\n",
        "\n",
        "# Import GridSearchCV\n",
        "from sklearn.model_selection import GridSearchCV\n",
        "  \n",
        "# defining parameter range\n",
        "param_grid = {'penalty' : ['l1', 'l2', 'elasticnet', None],\n",
        "              'C' : [0.01, 0.5, 1]\n",
        "               } \n",
        "  \n",
        "grid_3 = GridSearchCV(LogisticRegression(), param_grid, scoring='f1',\n",
        "                    refit = True, verbose = 3)\n",
        "  \n",
        "# fitting the model for grid search\n",
        "grid_3.fit(X_train, y_train)\n",
        "\n",
        "# To print best score\n",
        "print('The best score for f1 was found to be',grid_3.best_score_)"
      ],
      "metadata": {
        "id": "6ssW-iOlGSSp",
        "colab": {
          "base_uri": "https://localhost:8080/"
        },
        "outputId": "42062c97-1ec3-498f-f4d5-eebf52412591"
      },
      "execution_count": 102,
      "outputs": [
        {
          "output_type": "stream",
          "name": "stdout",
          "text": [
            "Fitting 5 folds for each of 12 candidates, totalling 60 fits\n",
            "[CV 1/5] END ..................C=0.01, penalty=l1;, score=nan total time=   0.0s\n",
            "[CV 2/5] END ..................C=0.01, penalty=l1;, score=nan total time=   0.0s\n",
            "[CV 3/5] END ..................C=0.01, penalty=l1;, score=nan total time=   0.0s\n",
            "[CV 4/5] END ..................C=0.01, penalty=l1;, score=nan total time=   0.0s\n",
            "[CV 5/5] END ..................C=0.01, penalty=l1;, score=nan total time=   0.0s\n",
            "[CV 1/5] END ................C=0.01, penalty=l2;, score=0.677 total time=   0.2s\n",
            "[CV 2/5] END ................C=0.01, penalty=l2;, score=0.605 total time=   0.2s\n",
            "[CV 3/5] END ................C=0.01, penalty=l2;, score=0.644 total time=   0.2s\n",
            "[CV 4/5] END ................C=0.01, penalty=l2;, score=0.643 total time=   0.2s\n",
            "[CV 5/5] END ................C=0.01, penalty=l2;, score=0.646 total time=   0.2s\n",
            "[CV 1/5] END ..........C=0.01, penalty=elasticnet;, score=nan total time=   0.0s\n",
            "[CV 2/5] END ..........C=0.01, penalty=elasticnet;, score=nan total time=   0.0s\n",
            "[CV 3/5] END ..........C=0.01, penalty=elasticnet;, score=nan total time=   0.0s\n",
            "[CV 4/5] END ..........C=0.01, penalty=elasticnet;, score=nan total time=   0.0s\n",
            "[CV 5/5] END ..........C=0.01, penalty=elasticnet;, score=nan total time=   0.0s\n"
          ]
        },
        {
          "output_type": "stream",
          "name": "stderr",
          "text": [
            "/usr/local/lib/python3.9/dist-packages/sklearn/linear_model/_logistic.py:1181: UserWarning: Setting penalty=None will ignore the C and l1_ratio parameters\n",
            "  warnings.warn(\n"
          ]
        },
        {
          "output_type": "stream",
          "name": "stdout",
          "text": [
            "[CV 1/5] END ..............C=0.01, penalty=None;, score=0.738 total time=   0.2s\n"
          ]
        },
        {
          "output_type": "stream",
          "name": "stderr",
          "text": [
            "/usr/local/lib/python3.9/dist-packages/sklearn/linear_model/_logistic.py:1181: UserWarning: Setting penalty=None will ignore the C and l1_ratio parameters\n",
            "  warnings.warn(\n"
          ]
        },
        {
          "output_type": "stream",
          "name": "stdout",
          "text": [
            "[CV 2/5] END ..............C=0.01, penalty=None;, score=0.682 total time=   0.3s\n",
            "[CV 3/5] END ..............C=0.01, penalty=None;, score=0.710 total time=   0.1s\n"
          ]
        },
        {
          "output_type": "stream",
          "name": "stderr",
          "text": [
            "/usr/local/lib/python3.9/dist-packages/sklearn/linear_model/_logistic.py:1181: UserWarning: Setting penalty=None will ignore the C and l1_ratio parameters\n",
            "  warnings.warn(\n",
            "/usr/local/lib/python3.9/dist-packages/sklearn/linear_model/_logistic.py:1181: UserWarning: Setting penalty=None will ignore the C and l1_ratio parameters\n",
            "  warnings.warn(\n"
          ]
        },
        {
          "output_type": "stream",
          "name": "stdout",
          "text": [
            "[CV 4/5] END ..............C=0.01, penalty=None;, score=0.715 total time=   0.1s\n",
            "[CV 5/5] END ..............C=0.01, penalty=None;, score=0.658 total time=   0.2s\n",
            "[CV 1/5] END ...................C=0.5, penalty=l1;, score=nan total time=   0.0s\n",
            "[CV 2/5] END ...................C=0.5, penalty=l1;, score=nan total time=   0.0s\n",
            "[CV 3/5] END ...................C=0.5, penalty=l1;, score=nan total time=   0.0s\n",
            "[CV 4/5] END ...................C=0.5, penalty=l1;, score=nan total time=   0.0s\n"
          ]
        },
        {
          "output_type": "stream",
          "name": "stderr",
          "text": [
            "/usr/local/lib/python3.9/dist-packages/sklearn/linear_model/_logistic.py:1181: UserWarning: Setting penalty=None will ignore the C and l1_ratio parameters\n",
            "  warnings.warn(\n"
          ]
        },
        {
          "output_type": "stream",
          "name": "stdout",
          "text": [
            "[CV 5/5] END ...................C=0.5, penalty=l1;, score=nan total time=   0.0s\n",
            "[CV 1/5] END .................C=0.5, penalty=l2;, score=0.738 total time=   0.2s\n",
            "[CV 2/5] END .................C=0.5, penalty=l2;, score=0.682 total time=   0.1s\n",
            "[CV 3/5] END .................C=0.5, penalty=l2;, score=0.710 total time=   0.1s\n",
            "[CV 4/5] END .................C=0.5, penalty=l2;, score=0.715 total time=   0.1s\n",
            "[CV 5/5] END .................C=0.5, penalty=l2;, score=0.658 total time=   0.1s\n",
            "[CV 1/5] END ...........C=0.5, penalty=elasticnet;, score=nan total time=   0.0s\n",
            "[CV 2/5] END ...........C=0.5, penalty=elasticnet;, score=nan total time=   0.0s\n",
            "[CV 3/5] END ...........C=0.5, penalty=elasticnet;, score=nan total time=   0.0s\n",
            "[CV 4/5] END ...........C=0.5, penalty=elasticnet;, score=nan total time=   0.0s\n",
            "[CV 5/5] END ...........C=0.5, penalty=elasticnet;, score=nan total time=   0.0s\n"
          ]
        },
        {
          "output_type": "stream",
          "name": "stderr",
          "text": [
            "/usr/local/lib/python3.9/dist-packages/sklearn/linear_model/_logistic.py:1181: UserWarning: Setting penalty=None will ignore the C and l1_ratio parameters\n",
            "  warnings.warn(\n",
            "/usr/local/lib/python3.9/dist-packages/sklearn/linear_model/_logistic.py:1181: UserWarning: Setting penalty=None will ignore the C and l1_ratio parameters\n",
            "  warnings.warn(\n"
          ]
        },
        {
          "output_type": "stream",
          "name": "stdout",
          "text": [
            "[CV 1/5] END ...............C=0.5, penalty=None;, score=0.738 total time=   0.1s\n",
            "[CV 2/5] END ...............C=0.5, penalty=None;, score=0.682 total time=   0.1s\n"
          ]
        },
        {
          "output_type": "stream",
          "name": "stderr",
          "text": [
            "/usr/local/lib/python3.9/dist-packages/sklearn/linear_model/_logistic.py:1181: UserWarning: Setting penalty=None will ignore the C and l1_ratio parameters\n",
            "  warnings.warn(\n",
            "/usr/local/lib/python3.9/dist-packages/sklearn/linear_model/_logistic.py:1181: UserWarning: Setting penalty=None will ignore the C and l1_ratio parameters\n",
            "  warnings.warn(\n"
          ]
        },
        {
          "output_type": "stream",
          "name": "stdout",
          "text": [
            "[CV 3/5] END ...............C=0.5, penalty=None;, score=0.710 total time=   0.2s\n",
            "[CV 4/5] END ...............C=0.5, penalty=None;, score=0.715 total time=   0.1s\n"
          ]
        },
        {
          "output_type": "stream",
          "name": "stderr",
          "text": [
            "/usr/local/lib/python3.9/dist-packages/sklearn/linear_model/_logistic.py:1181: UserWarning: Setting penalty=None will ignore the C and l1_ratio parameters\n",
            "  warnings.warn(\n"
          ]
        },
        {
          "output_type": "stream",
          "name": "stdout",
          "text": [
            "[CV 5/5] END ...............C=0.5, penalty=None;, score=0.658 total time=   0.1s\n",
            "[CV 1/5] END .....................C=1, penalty=l1;, score=nan total time=   0.0s\n",
            "[CV 2/5] END .....................C=1, penalty=l1;, score=nan total time=   0.0s\n",
            "[CV 3/5] END .....................C=1, penalty=l1;, score=nan total time=   0.0s\n",
            "[CV 4/5] END .....................C=1, penalty=l1;, score=nan total time=   0.0s\n",
            "[CV 5/5] END .....................C=1, penalty=l1;, score=nan total time=   0.0s\n",
            "[CV 1/5] END ...................C=1, penalty=l2;, score=0.738 total time=   0.1s\n",
            "[CV 2/5] END ...................C=1, penalty=l2;, score=0.682 total time=   0.1s\n",
            "[CV 3/5] END ...................C=1, penalty=l2;, score=0.710 total time=   0.1s\n",
            "[CV 4/5] END ...................C=1, penalty=l2;, score=0.715 total time=   0.1s\n",
            "[CV 5/5] END ...................C=1, penalty=l2;, score=0.658 total time=   0.1s\n",
            "[CV 1/5] END .............C=1, penalty=elasticnet;, score=nan total time=   0.0s\n",
            "[CV 2/5] END .............C=1, penalty=elasticnet;, score=nan total time=   0.0s\n",
            "[CV 3/5] END .............C=1, penalty=elasticnet;, score=nan total time=   0.0s\n",
            "[CV 4/5] END .............C=1, penalty=elasticnet;, score=nan total time=   0.0s\n",
            "[CV 5/5] END .............C=1, penalty=elasticnet;, score=nan total time=   0.0s\n",
            "[CV 1/5] END .................C=1, penalty=None;, score=0.738 total time=   0.1s\n",
            "[CV 2/5] END .................C=1, penalty=None;, score=0.682 total time=   0.1s\n",
            "[CV 3/5] END .................C=1, penalty=None;, score=0.710 total time=   0.1s\n",
            "[CV 4/5] END .................C=1, penalty=None;, score=0.715 total time=   0.1s\n",
            "[CV 5/5] END .................C=1, penalty=None;, score=0.658 total time=   0.1s\n",
            "The best score for f1 was found to be 0.7004586971131344\n"
          ]
        },
        {
          "output_type": "stream",
          "name": "stderr",
          "text": [
            "/usr/local/lib/python3.9/dist-packages/sklearn/model_selection/_validation.py:378: FitFailedWarning: \n",
            "30 fits failed out of a total of 60.\n",
            "The score on these train-test partitions for these parameters will be set to nan.\n",
            "If these failures are not expected, you can try to debug them by setting error_score='raise'.\n",
            "\n",
            "Below are more details about the failures:\n",
            "--------------------------------------------------------------------------------\n",
            "15 fits failed with the following error:\n",
            "Traceback (most recent call last):\n",
            "  File \"/usr/local/lib/python3.9/dist-packages/sklearn/model_selection/_validation.py\", line 686, in _fit_and_score\n",
            "    estimator.fit(X_train, y_train, **fit_params)\n",
            "  File \"/usr/local/lib/python3.9/dist-packages/sklearn/linear_model/_logistic.py\", line 1162, in fit\n",
            "    solver = _check_solver(self.solver, self.penalty, self.dual)\n",
            "  File \"/usr/local/lib/python3.9/dist-packages/sklearn/linear_model/_logistic.py\", line 54, in _check_solver\n",
            "    raise ValueError(\n",
            "ValueError: Solver lbfgs supports only 'l2' or 'none' penalties, got l1 penalty.\n",
            "\n",
            "--------------------------------------------------------------------------------\n",
            "15 fits failed with the following error:\n",
            "Traceback (most recent call last):\n",
            "  File \"/usr/local/lib/python3.9/dist-packages/sklearn/model_selection/_validation.py\", line 686, in _fit_and_score\n",
            "    estimator.fit(X_train, y_train, **fit_params)\n",
            "  File \"/usr/local/lib/python3.9/dist-packages/sklearn/linear_model/_logistic.py\", line 1162, in fit\n",
            "    solver = _check_solver(self.solver, self.penalty, self.dual)\n",
            "  File \"/usr/local/lib/python3.9/dist-packages/sklearn/linear_model/_logistic.py\", line 54, in _check_solver\n",
            "    raise ValueError(\n",
            "ValueError: Solver lbfgs supports only 'l2' or 'none' penalties, got elasticnet penalty.\n",
            "\n",
            "  warnings.warn(some_fits_failed_message, FitFailedWarning)\n",
            "/usr/local/lib/python3.9/dist-packages/sklearn/model_selection/_search.py:952: UserWarning: One or more of the test scores are non-finite: [       nan 0.64284613        nan 0.7004587         nan 0.7004587\n",
            "        nan 0.7004587         nan 0.7004587         nan 0.7004587 ]\n",
            "  warnings.warn(\n",
            "/usr/local/lib/python3.9/dist-packages/sklearn/linear_model/_logistic.py:1181: UserWarning: Setting penalty=None will ignore the C and l1_ratio parameters\n",
            "  warnings.warn(\n"
          ]
        }
      ]
    },
    {
      "cell_type": "code",
      "source": [
        "#print best parameter after tuning\n",
        "print(grid_3.best_params_)\n",
        "\n",
        "# print how our model looks after hyper-parameter tuning\n",
        "print(grid_3.best_estimator_,'The best f1 score found to be %.3f' % grid_1.best_score_)\n",
        "\n",
        "# Checking predictons on training set\n",
        "y_train_pred_lg = grid_3.predict(X_train) \n",
        "\n",
        "# Checking predictions on the test set \n",
        "y_test_pred_lg = grid_3.predict(X_test)"
      ],
      "metadata": {
        "colab": {
          "base_uri": "https://localhost:8080/"
        },
        "id": "mt-mx_Q4Ebqn",
        "outputId": "a937fe27-fee1-4ef4-b07b-274c4063cae4"
      },
      "execution_count": 103,
      "outputs": [
        {
          "output_type": "stream",
          "name": "stdout",
          "text": [
            "{'C': 0.01, 'penalty': None}\n",
            "LogisticRegression(C=0.01, penalty=None) The best f1 score found to be 0.700\n"
          ]
        }
      ]
    },
    {
      "cell_type": "code",
      "source": [
        "# Confusion matrix of test set\n",
        "from sklearn.metrics import confusion_matrix, ConfusionMatrixDisplay\n",
        "cm = confusion_matrix(y_test, y_test_pred_lg, labels= grid_1.classes_)\n",
        "disp = ConfusionMatrixDisplay(confusion_matrix=cm,\n",
        "                              display_labels= grid_1.classes_)\n",
        "disp.plot()\n",
        "plt.show()"
      ],
      "metadata": {
        "colab": {
          "base_uri": "https://localhost:8080/",
          "height": 279
        },
        "id": "OLebcbbfYIJ8",
        "outputId": "261a8549-7382-49ea-e8a6-56ab468a48e6"
      },
      "execution_count": 104,
      "outputs": [
        {
          "output_type": "display_data",
          "data": {
            "text/plain": [
              "<Figure size 432x288 with 2 Axes>"
            ],
            "image/png": "[encoded data removed]"
          },
          "metadata": {
            "needs_background": "light"
          }
        }
      ]
    },
    {
      "cell_type": "code",
      "source": [
        "# print classification report\n",
        "from sklearn.metrics import classification_report, confusion_matrix\n",
        "print(classification_report(y_test, y_test_pred_lg))"
      ],
      "metadata": {
        "colab": {
          "base_uri": "https://localhost:8080/"
        },
        "id": "j5ch7Ae2MJEJ",
        "outputId": "9f636320-08b2-4320-841e-31a796b6b9a0"
      },
      "execution_count": 105,
      "outputs": [
        {
          "output_type": "stream",
          "name": "stdout",
          "text": [
            "              precision    recall  f1-score   support\n",
            "\n",
            "           0       0.99      1.00      0.99    109716\n",
            "           1       0.76      0.57      0.65      2647\n",
            "\n",
            "    accuracy                           0.99    112363\n",
            "   macro avg       0.87      0.78      0.82    112363\n",
            "weighted avg       0.98      0.99      0.98    112363\n",
            "\n"
          ]
        }
      ]
    },
    {
      "cell_type": "markdown",
      "source": [
        "### 4) KNN"
      ],
      "metadata": {
        "id": "O3KLVLJmE2h3"
      }
    },
    {
      "cell_type": "code",
      "source": [
        "# Import knn\n",
        "from sklearn.neighbors import KNeighborsClassifier\n",
        "\n",
        "# Import GridSearchCV\n",
        "from sklearn.model_selection import GridSearchCV\n",
        "  \n",
        "# defining parameter range\n",
        "param_grid = {'n_neighbors' : [7, 9, 11],\n",
        "              'weights' : ['uniform']\n",
        "              } \n",
        "  \n",
        "grid_4 = GridSearchCV(KNeighborsClassifier(), param_grid, scoring='f1',\n",
        "                    refit = True, verbose = 3)\n",
        "  \n",
        "# fitting the model for grid search\n",
        "grid_4.fit(X_train, y_train)\n",
        "\n",
        "# To print best score\n",
        "print('The best score for f1 was found to be',grid_4.best_score_)"
      ],
      "metadata": {
        "colab": {
          "base_uri": "https://localhost:8080/"
        },
        "id": "NOkGfJ0KEbj7",
        "outputId": "34b39a30-abdc-4c6b-fd99-7b2a7d6debd8"
      },
      "execution_count": 106,
      "outputs": [
        {
          "output_type": "stream",
          "name": "stdout",
          "text": [
            "Fitting 5 folds for each of 3 candidates, totalling 15 fits\n",
            "[CV 1/5] END ....n_neighbors=7, weights=uniform;, score=0.148 total time=  11.6s\n",
            "[CV 2/5] END ....n_neighbors=7, weights=uniform;, score=0.682 total time=  11.9s\n",
            "[CV 3/5] END ....n_neighbors=7, weights=uniform;, score=0.710 total time=  12.2s\n",
            "[CV 4/5] END ....n_neighbors=7, weights=uniform;, score=0.456 total time=  12.1s\n",
            "[CV 5/5] END ....n_neighbors=7, weights=uniform;, score=0.658 total time=  10.9s\n",
            "[CV 1/5] END ....n_neighbors=9, weights=uniform;, score=0.148 total time=  10.9s\n",
            "[CV 2/5] END ....n_neighbors=9, weights=uniform;, score=0.682 total time=  12.2s\n",
            "[CV 3/5] END ....n_neighbors=9, weights=uniform;, score=0.710 total time=  12.3s\n",
            "[CV 4/5] END ....n_neighbors=9, weights=uniform;, score=0.715 total time=  12.2s\n",
            "[CV 5/5] END ....n_neighbors=9, weights=uniform;, score=0.658 total time=  11.6s\n",
            "[CV 1/5] END ...n_neighbors=11, weights=uniform;, score=0.148 total time=  11.5s\n",
            "[CV 2/5] END ...n_neighbors=11, weights=uniform;, score=0.682 total time=  12.1s\n",
            "[CV 3/5] END ...n_neighbors=11, weights=uniform;, score=0.710 total time=  12.3s\n",
            "[CV 4/5] END ...n_neighbors=11, weights=uniform;, score=0.715 total time=  12.2s\n",
            "[CV 5/5] END ...n_neighbors=11, weights=uniform;, score=0.658 total time=  11.6s\n",
            "The best score for f1 was found to be 0.5825186018286816\n"
          ]
        }
      ]
    },
    {
      "cell_type": "code",
      "source": [
        "#print best parameter after tuning\n",
        "print(grid_4.best_params_)\n",
        "\n",
        "# print how our model looks after hyper-parameter tuning\n",
        "print(grid_4.best_estimator_,'The best f1 score found to be %.3f' % grid_1.best_score_)\n",
        "\n",
        "# Checking predictons on training set\n",
        "y_train_pred_knn = grid_4.predict(X_train) \n",
        "\n",
        "# Checking predictions on the test set \n",
        "y_test_pred_knn = grid_4.predict(X_test)"
      ],
      "metadata": {
        "colab": {
          "base_uri": "https://localhost:8080/"
        },
        "id": "09ZlFIsOFBj8",
        "outputId": "e1cfe484-8b3d-4294-9265-4543c1e9201a"
      },
      "execution_count": 107,
      "outputs": [
        {
          "output_type": "stream",
          "name": "stdout",
          "text": [
            "{'n_neighbors': 9, 'weights': 'uniform'}\n",
            "KNeighborsClassifier(n_neighbors=9) The best f1 score found to be 0.700\n"
          ]
        }
      ]
    },
    {
      "cell_type": "code",
      "source": [
        "# Confusion matrix of test set\n",
        "from sklearn.metrics import confusion_matrix, ConfusionMatrixDisplay\n",
        "cm = confusion_matrix(y_test, y_test_pred_knn, labels= grid_1.classes_)\n",
        "disp = ConfusionMatrixDisplay(confusion_matrix=cm,\n",
        "                              display_labels= grid_1.classes_)\n",
        "disp.plot()\n",
        "plt.show()"
      ],
      "metadata": {
        "colab": {
          "base_uri": "https://localhost:8080/",
          "height": 279
        },
        "id": "uxTTlyk4Ywla",
        "outputId": "e1178e65-abd7-4337-acf2-1fa31dec6b8b"
      },
      "execution_count": 108,
      "outputs": [
        {
          "output_type": "display_data",
          "data": {
            "text/plain": [
              "<Figure size 432x288 with 2 Axes>"
            ],
            "image/png": "[encoded data removed]"
          },
          "metadata": {
            "needs_background": "light"
          }
        }
      ]
    },
    {
      "cell_type": "code",
      "source": [
        "# print classification report\n",
        "from sklearn.metrics import classification_report, confusion_matrix\n",
        "print(classification_report(y_test, y_test_pred_knn))"
      ],
      "metadata": {
        "colab": {
          "base_uri": "https://localhost:8080/"
        },
        "id": "i3L-Lsh7FBMW",
        "outputId": "7cf0f9da-705f-4a43-adcd-7dcdd6f8f7e8"
      },
      "execution_count": 109,
      "outputs": [
        {
          "output_type": "stream",
          "name": "stdout",
          "text": [
            "              precision    recall  f1-score   support\n",
            "\n",
            "           0       0.99      1.00      0.99    109716\n",
            "           1       0.76      0.57      0.65      2647\n",
            "\n",
            "    accuracy                           0.99    112363\n",
            "   macro avg       0.87      0.78      0.82    112363\n",
            "weighted avg       0.98      0.99      0.98    112363\n",
            "\n"
          ]
        }
      ]
    },
    {
      "cell_type": "markdown",
      "source": [
        "### Comparision of results:\n"
      ],
      "metadata": {
        "id": "Bm7rOtWwY8I0"
      }
    },
    {
      "cell_type": "code",
      "source": [
        "## 1\n",
        "from sklearn.metrics import precision_score, recall_score, f1_score\n",
        "print(f'Precision, Recall, F1score values for Covid Positive class (SVM) are :%.4f, %.4f, %.4f' %\n",
        "      ( precision_score(y_test, y_test_pred_svm), recall_score(y_test, y_test_pred_svm),\n",
        "       f1_score(y_test, y_test_pred_svm) )\n",
        "      )\n",
        "\n",
        "from sklearn.metrics import balanced_accuracy_score\n",
        "x1 = balanced_accuracy_score(y_test, y_test_pred_svm)*100\n",
        "print('The balanced accuracy score is %.2f' % (x1) )\n",
        "\n",
        "## 2\n",
        "from sklearn.metrics import precision_score, recall_score, f1_score\n",
        "print(f'Precision, Recall, F1score values for Covid Positive class (Random Forest) are :%.4f, %.4f, %.4f' %\n",
        "      ( precision_score(y_test, y_test_pred_rf), recall_score(y_test, y_test_pred_rf),\n",
        "       f1_score(y_test, y_test_pred_rf) )\n",
        "      )\n",
        "\n",
        "from sklearn.metrics import balanced_accuracy_score\n",
        "x2 = balanced_accuracy_score(y_test, y_test_pred_rf)*100\n",
        "print('The balanced accuracy score is %.2f' % (x2) )\n",
        "\n",
        "## 3\n",
        "from sklearn.metrics import precision_score, recall_score, f1_score\n",
        "print(f'Precision, Recall, F1score values for Covid Positive class (Logistic Regression) are :%.4f, %.4f, %.4f' %\n",
        "      ( precision_score(y_test, y_test_pred_lg), recall_score(y_test, y_test_pred_lg),\n",
        "       f1_score(y_test, y_test_pred_lg) )\n",
        "      )\n",
        "\n",
        "from sklearn.metrics import balanced_accuracy_score\n",
        "x3 = balanced_accuracy_score(y_test, y_test_pred_lg)*100\n",
        "print('The balanced accuracy score is %.2f' % (x3) )\n",
        "\n",
        "## 4\n",
        "from sklearn.metrics import precision_score, recall_score, f1_score\n",
        "print(f'Precision, Recall, F1score values for Covid Positive class (KNN) are :%.4f, %.4f, %.4f' %\n",
        "      ( precision_score(y_test, y_test_pred_knn), recall_score(y_test, y_test_pred_knn),\n",
        "       f1_score(y_test, y_test_pred_knn) )\n",
        "      )\n",
        "\n",
        "from sklearn.metrics import balanced_accuracy_score\n",
        "x4 = balanced_accuracy_score(y_test, y_test_pred_knn)*100\n",
        "print('The balanced accuracy score is %.2f' % (x4) )"
      ],
      "metadata": {
        "colab": {
          "base_uri": "https://localhost:8080/"
        },
        "id": "Q7eqmV3BhZLS",
        "outputId": "8629d08e-73a4-46d8-c531-725bc090b584"
      },
      "execution_count": 111,
      "outputs": [
        {
          "output_type": "stream",
          "name": "stdout",
          "text": [
            "Precision, Recall, F1score values for Covid Positive class (SVM) are :0.7592, 0.5682, 0.6500\n",
            "The balanced accuracy score is 78.19\n",
            "Precision, Recall, F1score values for Covid Positive class (Random Forest) are :0.7592, 0.5682, 0.6500\n",
            "The balanced accuracy score is 78.19\n",
            "Precision, Recall, F1score values for Covid Positive class (Logistic Regression) are :0.7592, 0.5682, 0.6500\n",
            "The balanced accuracy score is 78.19\n",
            "Precision, Recall, F1score values for Covid Positive class (KNN) are :0.7592, 0.5682, 0.6500\n",
            "The balanced accuracy score is 78.19\n"
          ]
        }
      ]
    },
    {
      "cell_type": "markdown",
      "source": [
        "* As the input features which were used for training and testing are **4 categorical features with 2 categories for each,** the results are found to be same after testing with the test dataset for all the techniques.   \n",
        "\n",
        "* Despite of training the algorithms with fine tuning of hyperparameters, the precision, recall and balanced accuracy score values are found to be same for diffierent machine learning techniques.\n",
        "\n",
        "* **This situation is caused by the presence of asymptomatic covid cases in the data set.**"
      ],
      "metadata": {
        "id": "ehrnwzt2IIsS"
      }
    },
    {
      "cell_type": "markdown",
      "source": [
        "## Conclusion:\n",
        "* The dataset is an imbalanced dataset with few targets as Covid Positive. Exploratory data analysis was performed to find the insights from the data and based on the results of two feature selection methods, 4 features were used to train the machine learning techniques.\n",
        "\n",
        "* Machine learning techniques like SVM, Randomforest, Logistic regression and Knn were used. These were trained and tested with the data and the results obtained after testing were compared above.\n",
        "\n",
        "* The models were trained using symptoms as variables but **asymptomatic covid cases are also possible.**\n",
        "\n",
        "* One can choose anyone technique from the four used here, which resulted in predicting **50% of the covid positive cases with an accuray of 75.9% based on symptoms**. \n"
      ],
      "metadata": {
        "id": "_up4NH2YErKb"
      }
    },
    {
      "cell_type": "code",
      "source": [],
      "metadata": {
        "id": "rmtqidN9mPct"
      },
      "execution_count": null,
      "outputs": []
    }
  ]
}